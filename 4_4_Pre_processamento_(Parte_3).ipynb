{
 "cells": [
  {
   "cell_type": "markdown",
   "metadata": {
    "colab_type": "text",
    "id": "view-in-github"
   },
   "source": [
    "<a href=\"https://colab.research.google.com/github/rodrigoclira/mineracao-dados/blob/main/4_4_Pre_processamento_(Parte_3).ipynb\" target=\"_parent\"><img src=\"https://colab.research.google.com/assets/colab-badge.svg\" alt=\"Open In Colab\"/></a>"
   ]
  },
  {
   "cell_type": "markdown",
   "metadata": {
    "id": "ISJ3HOWk4VzZ"
   },
   "source": [
    "#Pré-processamento (Parte 3)"
   ]
  },
  {
   "cell_type": "markdown",
   "metadata": {
    "id": "ZlptMKkN8ClB"
   },
   "source": [
    "https://archive.ics.uci.edu/ml/datasets/breast+cancer+wisconsin+%28diagnostic%29"
   ]
  },
  {
   "cell_type": "code",
   "execution_count": null,
   "metadata": {
    "id": "cWaTtpVjyZso"
   },
   "outputs": [],
   "source": [
    "import pandas as pd\n",
    "import numpy as np\n",
    "import seaborn as sns \n",
    "import matplotlib.pyplot as plt\n",
    "sns.set_style(\"whitegrid\")"
   ]
  },
  {
   "cell_type": "code",
   "execution_count": null,
   "metadata": {
    "id": "EpEEkokQznH5"
   },
   "outputs": [],
   "source": [
    "dados = pd.read_csv('https://raw.githubusercontent.com/rodrigoclira/mineracao-dados/main/datasets/breast-cancer/breast_cancer.csv')"
   ]
  },
  {
   "cell_type": "code",
   "execution_count": null,
   "metadata": {
    "id": "Sr3OIx0h0G6g"
   },
   "outputs": [],
   "source": [
    "dados.head()"
   ]
  },
  {
   "cell_type": "code",
   "execution_count": null,
   "metadata": {
    "id": "4Nx1IBhe8ERn"
   },
   "outputs": [],
   "source": [
    "dados.describe()"
   ]
  },
  {
   "cell_type": "code",
   "execution_count": null,
   "metadata": {
    "id": "5jamZv-w8IgA"
   },
   "outputs": [],
   "source": [
    "dados.shape"
   ]
  },
  {
   "cell_type": "code",
   "execution_count": null,
   "metadata": {
    "id": "30JIyKWU_6dZ"
   },
   "outputs": [],
   "source": [
    "dados.isnull().sum()"
   ]
  },
  {
   "cell_type": "markdown",
   "metadata": {
    "id": "Zi5Yao5e8bYs"
   },
   "source": [
    "## Removendo o Ruído através da discretização"
   ]
  },
  {
   "cell_type": "markdown",
   "metadata": {
    "id": "fNbLUUf-m-05"
   },
   "source": [
    "Dividindo o atributo 'mean_radius' em 10 faixas"
   ]
  },
  {
   "cell_type": "code",
   "execution_count": null,
   "metadata": {
    "id": "YyYaCJ3q8Vss"
   },
   "outputs": [],
   "source": [
    "bins = pd.qcut(dados['mean_radius'], 10)"
   ]
  },
  {
   "cell_type": "markdown",
   "metadata": {
    "id": "kfFX9SqhnDJ5"
   },
   "source": [
    "a quantidade de valores aproximadamente igual em cada faixa pode ser comprovada pelo metodo value_counts"
   ]
  },
  {
   "cell_type": "code",
   "execution_count": null,
   "metadata": {
    "id": "UTotZ7fvnCxH"
   },
   "outputs": [],
   "source": [
    "bins.value_counts()"
   ]
  },
  {
   "cell_type": "markdown",
   "metadata": {
    "id": "-3RkD_1inIcE"
   },
   "source": [
    "O metodo groupby permite que valores contidos na coluna de um DataFrame sejam agrupados segundo algum criterio. Neste exemplo, a coluna 'mean_radius' sera agrupada pelas faixas definidas pelo metodo qcut."
   ]
  },
  {
   "cell_type": "code",
   "execution_count": null,
   "metadata": {
    "id": "KNh0JBc8DzA0"
   },
   "outputs": [],
   "source": [
    "grupos = dados['mean_radius'].groupby(bins)"
   ]
  },
  {
   "cell_type": "markdown",
   "metadata": {
    "id": "j0jx3foTnN67"
   },
   "source": [
    "Obtendo a media de cada faixa\n"
   ]
  },
  {
   "cell_type": "code",
   "execution_count": null,
   "metadata": {
    "id": "2dY9L6EJEE_p"
   },
   "outputs": [],
   "source": [
    "medias = grupos.mean()\n",
    "medias"
   ]
  },
  {
   "cell_type": "markdown",
   "metadata": {
    "id": "k2z_bV5fnRWq"
   },
   "source": [
    "Obtendo a nova coluna. O metodo apply recebe como parametro uma funcao, aplica tal funcao a todos os seus elements e retorna um pandas.Series contendo os resultados. Neste caso, cada elemento de bins consiste no intervalo que o respectivo valor de 'mean_radius' pertence e, assim, a função informada em apply retornara a respectiva media de cada intervalo."
   ]
  },
  {
   "cell_type": "code",
   "execution_count": null,
   "metadata": {
    "id": "RGuzyFjRELcR"
   },
   "outputs": [],
   "source": [
    "novo_mean_radius = bins.apply(lambda x : medias[x])\n",
    "novo_mean_radius"
   ]
  },
  {
   "cell_type": "markdown",
   "metadata": {
    "id": "fBWZUsi-nY2d"
   },
   "source": [
    "por fim, a coluna 'mean_radius' do DataFrame original é atualizada"
   ]
  },
  {
   "cell_type": "code",
   "execution_count": null,
   "metadata": {
    "id": "_oip3HoVERcf"
   },
   "outputs": [],
   "source": [
    "dados['mean_radius'] = novo_mean_radius"
   ]
  },
  {
   "cell_type": "markdown",
   "metadata": {
    "id": "GvxIcld3_JI6"
   },
   "source": [
    "https://scikit-learn.org/stable/modules/generated/sklearn.model_selection.train_test_split.html"
   ]
  },
  {
   "cell_type": "markdown",
   "metadata": {
    "id": "s0hq1PIWEmMV"
   },
   "source": [
    "## Transformação de Dados"
   ]
  },
  {
   "cell_type": "markdown",
   "metadata": {
    "id": "5uqT0-6jFTEr"
   },
   "source": [
    "https://archive.ics.uci.edu/ml/datasets/Contraceptive+Method+Choice"
   ]
  },
  {
   "cell_type": "code",
   "execution_count": null,
   "metadata": {
    "id": "hembsHC9E9DG"
   },
   "outputs": [],
   "source": [
    "dados = pd.read_csv('https://raw.githubusercontent.com/rodrigoclira/mineracao-dados/main/datasets/cmc.csv')\n"
   ]
  },
  {
   "cell_type": "code",
   "execution_count": null,
   "metadata": {
    "id": "HzaTR_o5FGIU"
   },
   "outputs": [],
   "source": [
    "dados.head()"
   ]
  },
  {
   "cell_type": "code",
   "execution_count": null,
   "metadata": {
    "id": "DpWH7fr6FGk8"
   },
   "outputs": [],
   "source": [
    "dados.describe()"
   ]
  },
  {
   "cell_type": "markdown",
   "metadata": {
    "id": "wKwUvByBGqrT"
   },
   "source": [
    "## Dados Simbólicos para numéricos"
   ]
  },
  {
   "cell_type": "markdown",
   "metadata": {
    "id": "Owlc7ThjGVy-"
   },
   "source": [
    "Uma abordagem bastante conhecida e utililizada para isso consiste na codificação 1-de-c (tambḿe conhecida como one-hot encoding). Nela, considerando que um atributo possua c valores possíveis, são criados c novos atributos binários, onde cada posição indica um possível valor do atributo nominal original. Desse modo, apenas uma posição da nova sequência binária de cada objeto poderá ser igual\n",
    "a 1, indicando qual é o valor correspondente de um determinado objeto para o atributo original."
   ]
  },
  {
   "cell_type": "code",
   "execution_count": null,
   "metadata": {
    "id": "COAc-GIQFC6K"
   },
   "outputs": [],
   "source": [
    "# O atributo husband_occupation consiste em um atributo\n",
    "# nominal com 4 valores possiveis.\n",
    "# A conversao do mesmo para a codificacao 1-de-c eh\n",
    "# feita como:\n",
    "occ1dec = pd.get_dummies(dados['husband_occupation'])\n",
    "occ1dec"
   ]
  },
  {
   "cell_type": "markdown",
   "metadata": {
    "id": "lNSeRCArGcsG"
   },
   "source": [
    "a transformação dos valores inteiros para as suas respectivas representações binárias. (label enconding)"
   ]
  },
  {
   "cell_type": "code",
   "execution_count": null,
   "metadata": {
    "id": "OwFEmh_rGKs2"
   },
   "outputs": [],
   "source": [
    "# O atributo wife_education consiste em um atributo\n",
    "# qualitativo ordinal com 4 valores possiveis.\n",
    "# A conversao do mesmo para o codigo cinza pode ser\n",
    "# feita pela aplicacao do metodo 'bin' na respectiva\n",
    "# coluna do DataFrame. O metodo 'bin' recebe como entrada\n",
    "# um valor inteiro e retorna uma string com a representacao\n",
    "# binaria do mesmo.\n",
    "wife_ed_binario = dados['wife_education'].apply(bin)\n",
    "wife_ed_binario"
   ]
  },
  {
   "cell_type": "markdown",
   "metadata": {
    "id": "FAltk5_kGm0a"
   },
   "source": [
    "# Dados numéricos para Simbólicos"
   ]
  },
  {
   "cell_type": "markdown",
   "metadata": {
    "id": "DFj1UXPDGyUB"
   },
   "source": [
    "Várias de técnicas de AM como, por exemplo, alguns algoritmos de árvore de decisão, exigem que os dados de entrada assumam valores qualitativos."
   ]
  },
  {
   "cell_type": "code",
   "execution_count": null,
   "metadata": {
    "id": "Le6k73pPHNBH"
   },
   "outputs": [],
   "source": [
    "dados = pd.read_csv('https://raw.githubusercontent.com/rodrigoclira/mineracao-dados/main/datasets/breast-cancer/breast_cancer.csv')"
   ]
  },
  {
   "cell_type": "code",
   "execution_count": null,
   "metadata": {
    "id": "-PgY3ZBnG7j6"
   },
   "outputs": [],
   "source": [
    "# Obtendo a coluna 'mean_radius'.\n",
    "mean_radius = dados['mean_radius']\n",
    "# Discretizando a coluna 'mean_radius'.\n",
    "# O parametro 'bins' define em quantos intervalos\n",
    "# sera discretizado.\n",
    "# O parametro labels define o rotulo de cada\n",
    "# intervalo.\n",
    "mean_radius"
   ]
  },
  {
   "cell_type": "code",
   "execution_count": null,
   "metadata": {
    "id": "XmF8zyf7G9_l"
   },
   "outputs": [],
   "source": [
    "# Neste caso, como labels eh igual a range(10),\n",
    "# os intervalos serao discretizados com valores\n",
    "# inteiros entre 0 e 9.\n",
    "# O metodo pandas.cut discretiza em intervalos\n",
    "# de larguras iguais. Caso deseje-se discretizar\n",
    "# com frequencias iguais, deve-se utilizar o\n",
    "# metodo pandas.qcut.\n",
    "mean_radius_disc = pd.cut(mean_radius, bins=10, labels=range(10))\n",
    "mean_radius_disc"
   ]
  },
  {
   "cell_type": "code",
   "execution_count": null,
   "metadata": {
    "id": "SEBf9IAmHCwU"
   },
   "outputs": [],
   "source": [
    "# Atualizando a respectiva coluna no DataFrame\n",
    "# original.\n",
    "dados['mean_radius'] = mean_radius_disc"
   ]
  },
  {
   "cell_type": "markdown",
   "metadata": {
    "id": "wfhhGMI3JLt6"
   },
   "source": [
    "## Normalização"
   ]
  },
  {
   "cell_type": "markdown",
   "metadata": {
    "id": "5ErNveRTJT_S"
   },
   "source": [
    "A normalização por reescala define, através de um valor mínimo e um valor máximo, um novo intervalo onde os valores de um atributo estarão contidos\n",
    "\n",
    "\n",
    "![image.png](data:image/png;base64,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)\n",
    "\n",
    "\n",
    "Na normalização por padronização, os diferentes atributos contínuos poderão abranger diferentes intervalos, mas deverão possuir os mesmos valores para alguma medida de posição e de espalhamento/variação\n",
    "\n",
    "![image.png](\n",
    "  \n",
    "  ![image.png](data:image/png;base64,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)\n",
    ")"
   ]
  },
  {
   "cell_type": "code",
   "execution_count": null,
   "metadata": {
    "id": "DTD9SY5lJnpQ"
   },
   "outputs": [],
   "source": [
    "import pandas\n",
    "from sklearn.preprocessing import minmax_scale\n",
    "from sklearn.preprocessing import scale"
   ]
  },
  {
   "cell_type": "code",
   "execution_count": null,
   "metadata": {
    "id": "vsRHVV8wJrf3"
   },
   "outputs": [],
   "source": [
    "dados = pd.read_csv('https://raw.githubusercontent.com/rodrigoclira/mineracao-dados/main/datasets/breast-cancer/breast_cancer.csv')"
   ]
  },
  {
   "cell_type": "code",
   "execution_count": null,
   "metadata": {
    "id": "deshoMfpJteD"
   },
   "outputs": [],
   "source": [
    "# Obtendo os nomes das colunas do DataFrame\n",
    "# como uma lista.\n",
    "cols = list(dados.columns)\n",
    "cols"
   ]
  },
  {
   "cell_type": "code",
   "execution_count": null,
   "metadata": {
    "id": "wuFL4f8aJyzA"
   },
   "outputs": [],
   "source": [
    "# Removendo da lista 'cols' os nomes\n",
    "# 'sample_id' e 'diagnosis' que sao\n",
    "# colunas que nao serao normalizadas\n",
    "cols.remove('sample_id')\n",
    "cols.remove('diagnosis')"
   ]
  },
  {
   "cell_type": "code",
   "execution_count": null,
   "metadata": {
    "id": "P_43hXVvJ1y0"
   },
   "outputs": [],
   "source": [
    "# Copiando os dados e aplicando a normalizacao\n",
    "# por reescala nas colunas do DataFrame que contem\n",
    "# valores continuos.\n",
    "# Por padrao, o metodo minmax_scale reescala\n",
    "# com min=0 e max=1.\n",
    "dados_amp = dados.copy()\n",
    "dados_amp[cols] = dados[cols].apply(minmax_scale)\n",
    "dados_amp"
   ]
  },
  {
   "cell_type": "code",
   "execution_count": null,
   "metadata": {
    "id": "-m25dkr4KDCO"
   },
   "outputs": [],
   "source": [
    "# Copiando os dados e aplicando a normalizacao\n",
    "# por padronização a todas as colunas do DataFrame.\n",
    "# Por padrao, o metodo scale subtrai a media e\n",
    "# divide pelo desvio-padrao.\n",
    "dados_dist = dados.copy()\n",
    "dados_dist[cols] = dados[cols].apply(scale)\n",
    "dados_dist"
   ]
  },
  {
   "cell_type": "markdown",
   "metadata": {
    "id": "Podv98wMKLNg"
   },
   "source": [
    "## Redução de Dimensionalidade\n",
    "\n",
    "### PCA\n",
    "O PCA consiste em uma técnica estatística que utiliza uma transformação linear para reexpressar um conjunto de atributos em um conjunto menor de atributos não correlacionados linearmente, mantendo boa parte das informações contidas nos dados originais"
   ]
  },
  {
   "cell_type": "code",
   "execution_count": null,
   "metadata": {
    "id": "egV_5xuQKZGy"
   },
   "outputs": [],
   "source": [
    "from sklearn.decomposition import PCA"
   ]
  },
  {
   "cell_type": "code",
   "execution_count": null,
   "metadata": {
    "id": "ocY6Ofu8KYZp"
   },
   "outputs": [],
   "source": [
    "dados = pd.read_csv('https://raw.githubusercontent.com/rodrigoclira/mineracao-dados/main/datasets/breast-cancer/breast_cancer.csv')"
   ]
  },
  {
   "cell_type": "code",
   "execution_count": null,
   "metadata": {
    "id": "iyWwPuQ5Kdsh"
   },
   "outputs": [],
   "source": [
    "# Obtendo os nomes das colunas.\n",
    "cols = list(dados.columns)\n",
    "# Removendo colunas que nao serao inclusas\n",
    "# na reducao de dimensionalidade.\n",
    "cols.remove('sample_id')\n",
    "cols.remove('diagnosis')"
   ]
  },
  {
   "cell_type": "code",
   "execution_count": null,
   "metadata": {
    "id": "re4uYbTUKfyX"
   },
   "outputs": [],
   "source": [
    "# Instanciando um PCA. O parametro n_components\n",
    "# indica a quantidade de dimensoes que a base\n",
    "# original sera reduzida.\n",
    "pca = PCA(n_components=2, whiten=True)"
   ]
  },
  {
   "cell_type": "code",
   "execution_count": null,
   "metadata": {
    "id": "-9IgIZKnKz5V"
   },
   "outputs": [],
   "source": [
    "# Aplicando o pca na base breast_cancer.\n",
    "# O atributo 'values' retorna um numpy.array\n",
    "# de duas dimensões (matriz) contendo apenas\n",
    "# os valores numericos do DataFrame.\n",
    "dados_pca = pca.fit_transform(dados[cols].values)\n",
    "dados_pca"
   ]
  },
  {
   "cell_type": "code",
   "execution_count": null,
   "metadata": {
    "id": "p5VRAMGYKrMV"
   },
   "outputs": [],
   "source": [
    "# O metodo fit_transform retorna outro numpy.array\n",
    "# de dimensao numero_objetos x n_components.\n",
    "# Apos isso, instancia-se um novo DataFrame contendo\n",
    "# a base de dados original com dimensionalidade\n",
    "# reduzida.\n",
    "dados_pca = pd.DataFrame(dados_pca,\n",
    "columns=['comp1', 'comp2'])\n",
    "dados_pca"
   ]
  }
 ],
 "metadata": {
  "colab": {
   "collapsed_sections": [],
   "include_colab_link": true,
   "name": "4.4 Pre-processamento (Parte 3)",
   "private_outputs": true,
   "provenance": []
  },
  "kernelspec": {
   "display_name": "Python 3 (ipykernel)",
   "language": "python",
   "name": "python3"
  },
  "language_info": {
   "codemirror_mode": {
    "name": "ipython",
    "version": 3
   },
   "file_extension": ".py",
   "mimetype": "text/x-python",
   "name": "python",
   "nbconvert_exporter": "python",
   "pygments_lexer": "ipython3",
   "version": "3.10.4"
  }
 },
 "nbformat": 4,
 "nbformat_minor": 1
}
