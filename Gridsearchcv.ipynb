{
 "cells": [
  {
   "cell_type": "markdown",
   "metadata": {},
   "source": [
    "# Como usar o `GridSearchCV`\n",
    "***\n",
    "\n",
    "### 1. Índice\n",
    "- [2. Importação dos _Packages_](#2)\n",
    "- [3. _Datasets_](#3)\n",
    "- [4. _Classifiers_](#4)\n",
    "- [5. Análise dos Resultados](#5)\n",
    "- [6. _Cross Validation_](#6)\n",
    "- [7. _Scoring_](#7)\n",
    "- [8. Conclusões](#8)\n",
    "\n",
    "***\n"
   ]
  },
  {
   "cell_type": "markdown",
   "metadata": {},
   "source": [
    "### 2. Importação dos _Packages_ básicos  <a id='2'></a>"
   ]
  },
  {
   "cell_type": "code",
   "execution_count": 1,
   "metadata": {},
   "outputs": [],
   "source": [
    "# Importação dos packages básicos.\n",
    "from sklearn import datasets\n",
    "import pandas as pd\n",
    "import numpy as np\n",
    "\n",
    "# Só para evitar a aparição dos warnings.\n",
    "import warnings\n",
    "warnings.filterwarnings('ignore')"
   ]
  },
  {
   "cell_type": "markdown",
   "metadata": {},
   "source": [
    "### 3. _Dataset_ <a id='3'></a>\n",
    "\n",
    "Será usado como exemplo de dataset para a aplicação do `GridSearchCV` o banco de dados de câncer de mama."
   ]
  },
  {
   "cell_type": "code",
   "execution_count": 2,
   "metadata": {},
   "outputs": [],
   "source": [
    "# Carregando os dados de Câncer de mama.\n",
    "cancer = datasets.load_breast_cancer()"
   ]
  },
  {
   "cell_type": "markdown",
   "metadata": {},
   "source": [
    "O objeto `cancer` será um dicionário, dessa maneira vamos apenas carregar os dados que nos interessam."
   ]
  },
  {
   "cell_type": "code",
   "execution_count": 3,
   "metadata": {},
   "outputs": [],
   "source": [
    "# Criação do dataset features e vetor labels.\n",
    "features = cancer.data\n",
    "labels = cancer.target"
   ]
  },
  {
   "cell_type": "markdown",
   "metadata": {},
   "source": [
    "### 4. _Classifier_ <a id='4'></a>\n",
    "\n",
    "Esse exemplo terá como base a calibragem dos parâmetros do `AdaBoost`."
   ]
  },
  {
   "cell_type": "code",
   "execution_count": 4,
   "metadata": {},
   "outputs": [],
   "source": [
    "# Importação GridSearchCV.\n",
    "from sklearn.model_selection import GridSearchCV\n",
    "\n",
    "# Importação do AdaBoost.\n",
    "from sklearn.ensemble import AdaBoostClassifier"
   ]
  },
  {
   "cell_type": "markdown",
   "metadata": {},
   "source": [
    "Vamos usar o `constructor` do AdaBoost para criar um objeto chamado `clf`, ora doravante _classifier_."
   ]
  },
  {
   "cell_type": "code",
   "execution_count": 5,
   "metadata": {},
   "outputs": [],
   "source": [
    "# Criação do objeto do AdaBoost.\n",
    "clf = AdaBoostClassifier() # Sem nada dentro, pois vamos \"variar\" os parâmetros."
   ]
  },
  {
   "cell_type": "markdown",
   "metadata": {},
   "source": [
    "https://scikit-learn.org/stable/modules/generated/sklearn.ensemble.AdaBoostClassifier.html"
   ]
  },
  {
   "cell_type": "markdown",
   "metadata": {},
   "source": [
    "#### Primeira Iteração\n",
    "\n",
    "Vamos definir quais serão os valores para o `GridSearchCV` testar."
   ]
  },
  {
   "cell_type": "code",
   "execution_count": 6,
   "metadata": {},
   "outputs": [],
   "source": [
    "# Parametros do AdaBoost para o GridSearchCV testar.\n",
    "parametros = {'learning_rate':[0.1, 1,  2],\n",
    "              'n_estimators' :[  1, 5, 10]}"
   ]
  },
  {
   "cell_type": "markdown",
   "metadata": {},
   "source": [
    "Já temos toda a parte do _classifier_ pronta, falta criar um objeto do `GridSearchCV`."
   ]
  },
  {
   "cell_type": "code",
   "execution_count": 7,
   "metadata": {},
   "outputs": [],
   "source": [
    "# Criação do objeto do GridSearchCV.\n",
    "grid = GridSearchCV(estimator = clf,          # É o nosso AdaBoost.\n",
    "                    param_grid = parametros,  # É aquele dicionário com valores para serem testados.\n",
    "                    scoring = 'f1',           # Arbitrariamente escolhi o f1, adiante explico com detalhes.\n",
    "                    cv = 20)                  # Idem, arbitratiamente escolhi 10 e adiante será explanado."
   ]
  },
  {
   "cell_type": "markdown",
   "metadata": {},
   "source": [
    "Treina-se o objeto `grid` usando **todo** o _dataset_, pois `cv` foi definido como 20."
   ]
  },
  {
   "cell_type": "code",
   "execution_count": 8,
   "metadata": {},
   "outputs": [
    {
     "data": {
      "text/plain": [
       "GridSearchCV(cv=20, estimator=AdaBoostClassifier(),\n",
       "             param_grid={'learning_rate': [0.1, 1, 2],\n",
       "                         'n_estimators': [1, 5, 10]},\n",
       "             scoring='f1')"
      ]
     },
     "execution_count": 8,
     "metadata": {},
     "output_type": "execute_result"
    }
   ],
   "source": [
    "# Treinando o grid.\n",
    "grid.fit(features, labels)"
   ]
  },
  {
   "cell_type": "markdown",
   "metadata": {},
   "source": [
    "Por fim, tem-se o resultado de todas as simulações armazenadas em `grid` cujo resultado pode ser acessa pelo atributo `.cv_results_`."
   ]
  },
  {
   "cell_type": "code",
   "execution_count": 9,
   "metadata": {},
   "outputs": [
    {
     "data": {
      "text/html": [
       "<div>\n",
       "<style scoped>\n",
       "    .dataframe tbody tr th:only-of-type {\n",
       "        vertical-align: middle;\n",
       "    }\n",
       "\n",
       "    .dataframe tbody tr th {\n",
       "        vertical-align: top;\n",
       "    }\n",
       "\n",
       "    .dataframe thead th {\n",
       "        text-align: right;\n",
       "    }\n",
       "</style>\n",
       "<table border=\"1\" class=\"dataframe\">\n",
       "  <thead>\n",
       "    <tr style=\"text-align: right;\">\n",
       "      <th></th>\n",
       "      <th>mean_fit_time</th>\n",
       "      <th>std_fit_time</th>\n",
       "      <th>mean_score_time</th>\n",
       "      <th>std_score_time</th>\n",
       "      <th>param_learning_rate</th>\n",
       "      <th>param_n_estimators</th>\n",
       "      <th>params</th>\n",
       "      <th>split0_test_score</th>\n",
       "      <th>split1_test_score</th>\n",
       "      <th>split2_test_score</th>\n",
       "      <th>...</th>\n",
       "      <th>split13_test_score</th>\n",
       "      <th>split14_test_score</th>\n",
       "      <th>split15_test_score</th>\n",
       "      <th>split16_test_score</th>\n",
       "      <th>split17_test_score</th>\n",
       "      <th>split18_test_score</th>\n",
       "      <th>split19_test_score</th>\n",
       "      <th>mean_test_score</th>\n",
       "      <th>std_test_score</th>\n",
       "      <th>rank_test_score</th>\n",
       "    </tr>\n",
       "  </thead>\n",
       "  <tbody>\n",
       "    <tr>\n",
       "      <th>0</th>\n",
       "      <td>0.006178</td>\n",
       "      <td>0.000904</td>\n",
       "      <td>0.001938</td>\n",
       "      <td>0.000389</td>\n",
       "      <td>0.1</td>\n",
       "      <td>1</td>\n",
       "      <td>{'learning_rate': 0.1, 'n_estimators': 1}</td>\n",
       "      <td>0.900000</td>\n",
       "      <td>0.947368</td>\n",
       "      <td>0.875000</td>\n",
       "      <td>...</td>\n",
       "      <td>0.882353</td>\n",
       "      <td>0.944444</td>\n",
       "      <td>0.918919</td>\n",
       "      <td>0.914286</td>\n",
       "      <td>0.909091</td>\n",
       "      <td>0.947368</td>\n",
       "      <td>0.972973</td>\n",
       "      <td>0.910787</td>\n",
       "      <td>0.037332</td>\n",
       "      <td>6</td>\n",
       "    </tr>\n",
       "    <tr>\n",
       "      <th>1</th>\n",
       "      <td>0.025473</td>\n",
       "      <td>0.001810</td>\n",
       "      <td>0.002833</td>\n",
       "      <td>0.000307</td>\n",
       "      <td>0.1</td>\n",
       "      <td>5</td>\n",
       "      <td>{'learning_rate': 0.1, 'n_estimators': 5}</td>\n",
       "      <td>0.923077</td>\n",
       "      <td>0.972973</td>\n",
       "      <td>0.941176</td>\n",
       "      <td>...</td>\n",
       "      <td>0.944444</td>\n",
       "      <td>1.000000</td>\n",
       "      <td>0.947368</td>\n",
       "      <td>0.914286</td>\n",
       "      <td>0.944444</td>\n",
       "      <td>0.947368</td>\n",
       "      <td>0.972973</td>\n",
       "      <td>0.935509</td>\n",
       "      <td>0.044272</td>\n",
       "      <td>4</td>\n",
       "    </tr>\n",
       "    <tr>\n",
       "      <th>2</th>\n",
       "      <td>0.050993</td>\n",
       "      <td>0.001878</td>\n",
       "      <td>0.004108</td>\n",
       "      <td>0.000534</td>\n",
       "      <td>0.1</td>\n",
       "      <td>10</td>\n",
       "      <td>{'learning_rate': 0.1, 'n_estimators': 10}</td>\n",
       "      <td>0.947368</td>\n",
       "      <td>0.944444</td>\n",
       "      <td>0.941176</td>\n",
       "      <td>...</td>\n",
       "      <td>0.944444</td>\n",
       "      <td>0.972973</td>\n",
       "      <td>0.947368</td>\n",
       "      <td>0.914286</td>\n",
       "      <td>1.000000</td>\n",
       "      <td>0.972973</td>\n",
       "      <td>0.972973</td>\n",
       "      <td>0.947250</td>\n",
       "      <td>0.041381</td>\n",
       "      <td>3</td>\n",
       "    </tr>\n",
       "    <tr>\n",
       "      <th>3</th>\n",
       "      <td>0.005604</td>\n",
       "      <td>0.000485</td>\n",
       "      <td>0.001858</td>\n",
       "      <td>0.000335</td>\n",
       "      <td>1</td>\n",
       "      <td>1</td>\n",
       "      <td>{'learning_rate': 1, 'n_estimators': 1}</td>\n",
       "      <td>0.900000</td>\n",
       "      <td>0.947368</td>\n",
       "      <td>0.875000</td>\n",
       "      <td>...</td>\n",
       "      <td>0.882353</td>\n",
       "      <td>0.944444</td>\n",
       "      <td>0.918919</td>\n",
       "      <td>0.914286</td>\n",
       "      <td>0.909091</td>\n",
       "      <td>0.947368</td>\n",
       "      <td>0.972973</td>\n",
       "      <td>0.910787</td>\n",
       "      <td>0.037332</td>\n",
       "      <td>6</td>\n",
       "    </tr>\n",
       "    <tr>\n",
       "      <th>4</th>\n",
       "      <td>0.024831</td>\n",
       "      <td>0.002193</td>\n",
       "      <td>0.002682</td>\n",
       "      <td>0.000347</td>\n",
       "      <td>1</td>\n",
       "      <td>5</td>\n",
       "      <td>{'learning_rate': 1, 'n_estimators': 5}</td>\n",
       "      <td>1.000000</td>\n",
       "      <td>0.971429</td>\n",
       "      <td>0.941176</td>\n",
       "      <td>...</td>\n",
       "      <td>0.914286</td>\n",
       "      <td>1.000000</td>\n",
       "      <td>0.944444</td>\n",
       "      <td>0.971429</td>\n",
       "      <td>0.914286</td>\n",
       "      <td>0.971429</td>\n",
       "      <td>1.000000</td>\n",
       "      <td>0.962110</td>\n",
       "      <td>0.028488</td>\n",
       "      <td>2</td>\n",
       "    </tr>\n",
       "    <tr>\n",
       "      <th>5</th>\n",
       "      <td>0.048020</td>\n",
       "      <td>0.004512</td>\n",
       "      <td>0.003876</td>\n",
       "      <td>0.000690</td>\n",
       "      <td>1</td>\n",
       "      <td>10</td>\n",
       "      <td>{'learning_rate': 1, 'n_estimators': 10}</td>\n",
       "      <td>1.000000</td>\n",
       "      <td>0.941176</td>\n",
       "      <td>1.000000</td>\n",
       "      <td>...</td>\n",
       "      <td>0.944444</td>\n",
       "      <td>0.971429</td>\n",
       "      <td>0.918919</td>\n",
       "      <td>0.971429</td>\n",
       "      <td>0.972973</td>\n",
       "      <td>1.000000</td>\n",
       "      <td>0.972973</td>\n",
       "      <td>0.962354</td>\n",
       "      <td>0.037609</td>\n",
       "      <td>1</td>\n",
       "    </tr>\n",
       "    <tr>\n",
       "      <th>6</th>\n",
       "      <td>0.005271</td>\n",
       "      <td>0.000627</td>\n",
       "      <td>0.001683</td>\n",
       "      <td>0.000168</td>\n",
       "      <td>2</td>\n",
       "      <td>1</td>\n",
       "      <td>{'learning_rate': 2, 'n_estimators': 1}</td>\n",
       "      <td>0.900000</td>\n",
       "      <td>0.947368</td>\n",
       "      <td>0.875000</td>\n",
       "      <td>...</td>\n",
       "      <td>0.882353</td>\n",
       "      <td>1.000000</td>\n",
       "      <td>0.918919</td>\n",
       "      <td>0.914286</td>\n",
       "      <td>0.812500</td>\n",
       "      <td>0.947368</td>\n",
       "      <td>0.972973</td>\n",
       "      <td>0.908735</td>\n",
       "      <td>0.047049</td>\n",
       "      <td>8</td>\n",
       "    </tr>\n",
       "    <tr>\n",
       "      <th>7</th>\n",
       "      <td>0.025496</td>\n",
       "      <td>0.001200</td>\n",
       "      <td>0.002948</td>\n",
       "      <td>0.000391</td>\n",
       "      <td>2</td>\n",
       "      <td>5</td>\n",
       "      <td>{'learning_rate': 2, 'n_estimators': 5}</td>\n",
       "      <td>0.923077</td>\n",
       "      <td>0.947368</td>\n",
       "      <td>0.875000</td>\n",
       "      <td>...</td>\n",
       "      <td>0.882353</td>\n",
       "      <td>0.971429</td>\n",
       "      <td>0.888889</td>\n",
       "      <td>0.875000</td>\n",
       "      <td>0.909091</td>\n",
       "      <td>0.888889</td>\n",
       "      <td>0.972973</td>\n",
       "      <td>0.911806</td>\n",
       "      <td>0.037655</td>\n",
       "      <td>5</td>\n",
       "    </tr>\n",
       "    <tr>\n",
       "      <th>8</th>\n",
       "      <td>0.046720</td>\n",
       "      <td>0.003743</td>\n",
       "      <td>0.003811</td>\n",
       "      <td>0.000483</td>\n",
       "      <td>2</td>\n",
       "      <td>10</td>\n",
       "      <td>{'learning_rate': 2, 'n_estimators': 10}</td>\n",
       "      <td>0.000000</td>\n",
       "      <td>0.000000</td>\n",
       "      <td>0.250000</td>\n",
       "      <td>...</td>\n",
       "      <td>0.200000</td>\n",
       "      <td>0.068966</td>\n",
       "      <td>0.074074</td>\n",
       "      <td>0.193548</td>\n",
       "      <td>0.193548</td>\n",
       "      <td>0.068966</td>\n",
       "      <td>0.071429</td>\n",
       "      <td>0.175009</td>\n",
       "      <td>0.258598</td>\n",
       "      <td>9</td>\n",
       "    </tr>\n",
       "  </tbody>\n",
       "</table>\n",
       "<p>9 rows × 30 columns</p>\n",
       "</div>"
      ],
      "text/plain": [
       "   mean_fit_time  std_fit_time  mean_score_time  std_score_time  \\\n",
       "0       0.006178      0.000904         0.001938        0.000389   \n",
       "1       0.025473      0.001810         0.002833        0.000307   \n",
       "2       0.050993      0.001878         0.004108        0.000534   \n",
       "3       0.005604      0.000485         0.001858        0.000335   \n",
       "4       0.024831      0.002193         0.002682        0.000347   \n",
       "5       0.048020      0.004512         0.003876        0.000690   \n",
       "6       0.005271      0.000627         0.001683        0.000168   \n",
       "7       0.025496      0.001200         0.002948        0.000391   \n",
       "8       0.046720      0.003743         0.003811        0.000483   \n",
       "\n",
       "  param_learning_rate param_n_estimators  \\\n",
       "0                 0.1                  1   \n",
       "1                 0.1                  5   \n",
       "2                 0.1                 10   \n",
       "3                   1                  1   \n",
       "4                   1                  5   \n",
       "5                   1                 10   \n",
       "6                   2                  1   \n",
       "7                   2                  5   \n",
       "8                   2                 10   \n",
       "\n",
       "                                       params  split0_test_score  \\\n",
       "0   {'learning_rate': 0.1, 'n_estimators': 1}           0.900000   \n",
       "1   {'learning_rate': 0.1, 'n_estimators': 5}           0.923077   \n",
       "2  {'learning_rate': 0.1, 'n_estimators': 10}           0.947368   \n",
       "3     {'learning_rate': 1, 'n_estimators': 1}           0.900000   \n",
       "4     {'learning_rate': 1, 'n_estimators': 5}           1.000000   \n",
       "5    {'learning_rate': 1, 'n_estimators': 10}           1.000000   \n",
       "6     {'learning_rate': 2, 'n_estimators': 1}           0.900000   \n",
       "7     {'learning_rate': 2, 'n_estimators': 5}           0.923077   \n",
       "8    {'learning_rate': 2, 'n_estimators': 10}           0.000000   \n",
       "\n",
       "   split1_test_score  split2_test_score  ...  split13_test_score  \\\n",
       "0           0.947368           0.875000  ...            0.882353   \n",
       "1           0.972973           0.941176  ...            0.944444   \n",
       "2           0.944444           0.941176  ...            0.944444   \n",
       "3           0.947368           0.875000  ...            0.882353   \n",
       "4           0.971429           0.941176  ...            0.914286   \n",
       "5           0.941176           1.000000  ...            0.944444   \n",
       "6           0.947368           0.875000  ...            0.882353   \n",
       "7           0.947368           0.875000  ...            0.882353   \n",
       "8           0.000000           0.250000  ...            0.200000   \n",
       "\n",
       "   split14_test_score  split15_test_score  split16_test_score  \\\n",
       "0            0.944444            0.918919            0.914286   \n",
       "1            1.000000            0.947368            0.914286   \n",
       "2            0.972973            0.947368            0.914286   \n",
       "3            0.944444            0.918919            0.914286   \n",
       "4            1.000000            0.944444            0.971429   \n",
       "5            0.971429            0.918919            0.971429   \n",
       "6            1.000000            0.918919            0.914286   \n",
       "7            0.971429            0.888889            0.875000   \n",
       "8            0.068966            0.074074            0.193548   \n",
       "\n",
       "   split17_test_score  split18_test_score  split19_test_score  \\\n",
       "0            0.909091            0.947368            0.972973   \n",
       "1            0.944444            0.947368            0.972973   \n",
       "2            1.000000            0.972973            0.972973   \n",
       "3            0.909091            0.947368            0.972973   \n",
       "4            0.914286            0.971429            1.000000   \n",
       "5            0.972973            1.000000            0.972973   \n",
       "6            0.812500            0.947368            0.972973   \n",
       "7            0.909091            0.888889            0.972973   \n",
       "8            0.193548            0.068966            0.071429   \n",
       "\n",
       "   mean_test_score  std_test_score  rank_test_score  \n",
       "0         0.910787        0.037332                6  \n",
       "1         0.935509        0.044272                4  \n",
       "2         0.947250        0.041381                3  \n",
       "3         0.910787        0.037332                6  \n",
       "4         0.962110        0.028488                2  \n",
       "5         0.962354        0.037609                1  \n",
       "6         0.908735        0.047049                8  \n",
       "7         0.911806        0.037655                5  \n",
       "8         0.175009        0.258598                9  \n",
       "\n",
       "[9 rows x 30 columns]"
      ]
     },
     "execution_count": 9,
     "metadata": {},
     "output_type": "execute_result"
    }
   ],
   "source": [
    "# Imprimindo os resultados.\n",
    "pd.DataFrame(grid.cv_results_)"
   ]
  },
  {
   "cell_type": "markdown",
   "metadata": {},
   "source": [
    "Note que há muitas colunas o que impossibilita a visualização de todos os dados."
   ]
  },
  {
   "cell_type": "code",
   "execution_count": 10,
   "metadata": {},
   "outputs": [
    {
     "data": {
      "text/plain": [
       "['mean_fit_time',\n",
       " 'std_fit_time',\n",
       " 'mean_score_time',\n",
       " 'std_score_time',\n",
       " 'param_learning_rate',\n",
       " 'param_n_estimators',\n",
       " 'params',\n",
       " 'split0_test_score',\n",
       " 'split1_test_score',\n",
       " 'split2_test_score',\n",
       " 'split3_test_score',\n",
       " 'split4_test_score',\n",
       " 'split5_test_score',\n",
       " 'split6_test_score',\n",
       " 'split7_test_score',\n",
       " 'split8_test_score',\n",
       " 'split9_test_score',\n",
       " 'split10_test_score',\n",
       " 'split11_test_score',\n",
       " 'split12_test_score',\n",
       " 'split13_test_score',\n",
       " 'split14_test_score',\n",
       " 'split15_test_score',\n",
       " 'split16_test_score',\n",
       " 'split17_test_score',\n",
       " 'split18_test_score',\n",
       " 'split19_test_score',\n",
       " 'mean_test_score',\n",
       " 'std_test_score',\n",
       " 'rank_test_score']"
      ]
     },
     "execution_count": 10,
     "metadata": {},
     "output_type": "execute_result"
    }
   ],
   "source": [
    "# Visualizar todas as colunas.\n",
    "pd.DataFrame(grid.cv_results_).columns.tolist()"
   ]
  },
  {
   "cell_type": "markdown",
   "metadata": {},
   "source": [
    "Observe que os \"splits\" no nome das colunas se referem ao número da simulação, isto é, foram feitas 20 simulações para cada conjunto de parâmetros (que vc pode visualizar na coluna `params`). Ao passo que \"train\" e \"test\" referem-se à divisão do _dataset_ em treino e test, note que o `GridSearchCV` já faz isso automaticamente!! Logo, não há necessidade de dividir o _dataset_ usando o `train_test_split` antes de treinar o seu objeto `grid`, pois quando o parâmetros `cv` é configurado para um número inteiro (neste caso 20) é feito \"ocultamente\" um `StratifiedKFolds`, conforme pode ser confirmado na documentação do módulo `GridSearchCV`.\n",
    "\n",
    "$$\\text{Total de Simulacoes} = \\underbrace{9}_{3 \\cdot 3} \\cdot \\underbrace{20}_{n\\_splits} = 360$$\n",
    "\n",
    "\n",
    "\n",
    "```\n",
    "cv : int, cross-validation generator or an iterable, optional\n",
    "Determines the cross-validation splitting strategy. Possible inputs for cv are:\n",
    "\n",
    "None, to use the default 3-fold cross validation,\n",
    "integer, to specify the number of folds in a (Stratified)KFold,\n",
    "CV splitter,\n",
    "An iterable yielding (train, test) splits as arrays of indices.\n",
    "For integer/None inputs, if the estimator is a classifier and y is either binary or multiclass, StratifiedKFold is used. In all other cases, KFold is used.\n",
    "\n",
    "Refer User Guide for the various cross-validation strategies that can be used here.\n",
    "\n",
    "Changed in version 0.20: cv default value if None will change from 3-fold to 5-fold in v0.22.\n",
    "```\n",
    "\n",
    "O significado de `score` nos nomes das colunas se referem ao **score** definido na criação do seu objeto `grid`, este exemplo usou o `f1`. Portanto, todas as colunas possuem o valor da métrica `f1` daquela simulação.\n",
    "\n",
    "Vamos adiante para descobrir quais são os parâmetros que produzem os melhores resultados. Para isso, vamos imprimir o melhor `score`, que é o `f1` neste caso."
   ]
  },
  {
   "cell_type": "code",
   "execution_count": 11,
   "metadata": {},
   "outputs": [
    {
     "data": {
      "text/plain": [
       "0.9623544552956316"
      ]
     },
     "execution_count": 11,
     "metadata": {},
     "output_type": "execute_result"
    }
   ],
   "source": [
    "# Imprimindo o score.\n",
    "grid.best_score_"
   ]
  },
  {
   "cell_type": "markdown",
   "metadata": {},
   "source": [
    "Sabemos o resultado dos melhores parâmetros, mas não sabemos quais são esses valores."
   ]
  },
  {
   "cell_type": "code",
   "execution_count": 12,
   "metadata": {},
   "outputs": [
    {
     "data": {
      "text/plain": [
       "{'learning_rate': 1, 'n_estimators': 10}"
      ]
     },
     "execution_count": 12,
     "metadata": {},
     "output_type": "execute_result"
    }
   ],
   "source": [
    "# Imprime os parâmetros que produziram o \".best_score_\".\n",
    "grid.best_params_"
   ]
  },
  {
   "cell_type": "markdown",
   "metadata": {},
   "source": [
    "Caso você queira visualizar os resultados dos outros parâmetros, você pode imprimir os resultados e fazer um _subset_. Neste exemplo abaixo selecionei somente `params`, `rank_test_score` e `mean_test_score`."
   ]
  },
  {
   "cell_type": "code",
   "execution_count": 13,
   "metadata": {},
   "outputs": [
    {
     "data": {
      "text/html": [
       "<div>\n",
       "<style scoped>\n",
       "    .dataframe tbody tr th:only-of-type {\n",
       "        vertical-align: middle;\n",
       "    }\n",
       "\n",
       "    .dataframe tbody tr th {\n",
       "        vertical-align: top;\n",
       "    }\n",
       "\n",
       "    .dataframe thead th {\n",
       "        text-align: right;\n",
       "    }\n",
       "</style>\n",
       "<table border=\"1\" class=\"dataframe\">\n",
       "  <thead>\n",
       "    <tr style=\"text-align: right;\">\n",
       "      <th></th>\n",
       "      <th>params</th>\n",
       "      <th>rank_test_score</th>\n",
       "      <th>mean_test_score</th>\n",
       "    </tr>\n",
       "  </thead>\n",
       "  <tbody>\n",
       "    <tr>\n",
       "      <th>0</th>\n",
       "      <td>{'learning_rate': 0.1, 'n_estimators': 1}</td>\n",
       "      <td>6</td>\n",
       "      <td>0.910787</td>\n",
       "    </tr>\n",
       "    <tr>\n",
       "      <th>1</th>\n",
       "      <td>{'learning_rate': 0.1, 'n_estimators': 5}</td>\n",
       "      <td>4</td>\n",
       "      <td>0.935509</td>\n",
       "    </tr>\n",
       "    <tr>\n",
       "      <th>2</th>\n",
       "      <td>{'learning_rate': 0.1, 'n_estimators': 10}</td>\n",
       "      <td>3</td>\n",
       "      <td>0.947250</td>\n",
       "    </tr>\n",
       "    <tr>\n",
       "      <th>3</th>\n",
       "      <td>{'learning_rate': 1, 'n_estimators': 1}</td>\n",
       "      <td>6</td>\n",
       "      <td>0.910787</td>\n",
       "    </tr>\n",
       "    <tr>\n",
       "      <th>4</th>\n",
       "      <td>{'learning_rate': 1, 'n_estimators': 5}</td>\n",
       "      <td>2</td>\n",
       "      <td>0.962110</td>\n",
       "    </tr>\n",
       "    <tr>\n",
       "      <th>5</th>\n",
       "      <td>{'learning_rate': 1, 'n_estimators': 10}</td>\n",
       "      <td>1</td>\n",
       "      <td>0.962354</td>\n",
       "    </tr>\n",
       "    <tr>\n",
       "      <th>6</th>\n",
       "      <td>{'learning_rate': 2, 'n_estimators': 1}</td>\n",
       "      <td>8</td>\n",
       "      <td>0.908735</td>\n",
       "    </tr>\n",
       "    <tr>\n",
       "      <th>7</th>\n",
       "      <td>{'learning_rate': 2, 'n_estimators': 5}</td>\n",
       "      <td>5</td>\n",
       "      <td>0.911806</td>\n",
       "    </tr>\n",
       "    <tr>\n",
       "      <th>8</th>\n",
       "      <td>{'learning_rate': 2, 'n_estimators': 10}</td>\n",
       "      <td>9</td>\n",
       "      <td>0.175009</td>\n",
       "    </tr>\n",
       "  </tbody>\n",
       "</table>\n",
       "</div>"
      ],
      "text/plain": [
       "                                       params  rank_test_score  \\\n",
       "0   {'learning_rate': 0.1, 'n_estimators': 1}                6   \n",
       "1   {'learning_rate': 0.1, 'n_estimators': 5}                4   \n",
       "2  {'learning_rate': 0.1, 'n_estimators': 10}                3   \n",
       "3     {'learning_rate': 1, 'n_estimators': 1}                6   \n",
       "4     {'learning_rate': 1, 'n_estimators': 5}                2   \n",
       "5    {'learning_rate': 1, 'n_estimators': 10}                1   \n",
       "6     {'learning_rate': 2, 'n_estimators': 1}                8   \n",
       "7     {'learning_rate': 2, 'n_estimators': 5}                5   \n",
       "8    {'learning_rate': 2, 'n_estimators': 10}                9   \n",
       "\n",
       "   mean_test_score  \n",
       "0         0.910787  \n",
       "1         0.935509  \n",
       "2         0.947250  \n",
       "3         0.910787  \n",
       "4         0.962110  \n",
       "5         0.962354  \n",
       "6         0.908735  \n",
       "7         0.911806  \n",
       "8         0.175009  "
      ]
     },
     "execution_count": 13,
     "metadata": {},
     "output_type": "execute_result"
    }
   ],
   "source": [
    "# Imprime colunas selecionadas.\n",
    "pd.DataFrame(grid.cv_results_)[['params','rank_test_score','mean_test_score']]"
   ]
  },
  {
   "cell_type": "markdown",
   "metadata": {},
   "source": [
    "#### Segunda Iteração\n",
    "\n",
    "Observe que o processo de _tuning_ não consiste apenas em uma simulação do `GridSearchCV`, isso deve ser repetido algumas vezes até se chegar na convergência dos parâmetros. O próximo passo seria a simulação com os parâmetros ajustados, tendo diminuído a distância entre os extremos."
   ]
  },
  {
   "cell_type": "code",
   "execution_count": 14,
   "metadata": {},
   "outputs": [],
   "source": [
    "# Novos parametros do AdaBoost para o GridSearchCV testar.\n",
    "parametros = {'learning_rate':[0.5, 1, 1.5],  # Antes era [0.1, 1,  2].\n",
    "              'n_estimators' :[  3, 5,   7]}  # Antes era [  1, 5, 10]."
   ]
  },
  {
   "cell_type": "markdown",
   "metadata": {},
   "source": [
    "O próximo passo é treinar e visualizar novamente os melhores parâmetros. Infelizmente, teremos que criar novamente o objeto `grid`, uma vez que o atual já está treinado."
   ]
  },
  {
   "cell_type": "code",
   "execution_count": 15,
   "metadata": {},
   "outputs": [
    {
     "data": {
      "text/plain": [
       "{'learning_rate': 1, 'n_estimators': 3}"
      ]
     },
     "execution_count": 15,
     "metadata": {},
     "output_type": "execute_result"
    }
   ],
   "source": [
    "# Criação do objeto do GridSearchCV com parametros ajustados.\n",
    "grid = GridSearchCV(estimator = clf,          # É o nosso AdaBoost.\n",
    "                    param_grid = parametros,  # É aquele dicionário com valores para serem testados.\n",
    "                    scoring = 'f1',           # Arbitrariamente escolhi o f1, adiante explico com detalhes.\n",
    "                    cv = 20)                  # Idem, arbitratiamente escolhi 20 e adiante será explanado.\n",
    "\n",
    "# Vamos treinar e imprimir os melhores parâmetros.\n",
    "grid.fit(features,labels).best_params_"
   ]
  },
  {
   "cell_type": "markdown",
   "metadata": {},
   "source": [
    "Observe que houve uma alteração do `n_estimators`, o que corrobora com a ideia de ajuste do processo de _tuning_. Vamos imprimir o `score`."
   ]
  },
  {
   "cell_type": "code",
   "execution_count": 16,
   "metadata": {},
   "outputs": [
    {
     "data": {
      "text/plain": [
       "0.9665504181758052"
      ]
     },
     "execution_count": 16,
     "metadata": {},
     "output_type": "execute_result"
    }
   ],
   "source": [
    "# Novo valor de f1.\n",
    "grid.best_score_"
   ]
  },
  {
   "cell_type": "markdown",
   "metadata": {},
   "source": [
    "### 5. Análise dos Resultados <a id='5'></a>\n",
    "\n",
    "Saliento que o intervalo entre um parâmetro e outro é \"grande\" propositalmente para buscar o melhor parâmetro no maior espectro possível de valores. Note que usar estratégias com inúmeros parâmetros (e muito próximos) não são computacionalmente eficientes, pois você aumentará demasiadamente o tempo de execução do seu modelo.\n",
    "\n",
    "Exemplo de um dicionário de parâmetros computacionalmente pouco eficiente."
   ]
  },
  {
   "cell_type": "code",
   "execution_count": 17,
   "metadata": {},
   "outputs": [],
   "source": [
    "# Dicionário de parâmetros pouco eficiente.\n",
    "parametros_2 = {'learning_rate':[0.1, 0.2, 0.3, 0.4, 0.5, 0.6, 0.7, 0.8, 0.9, 1.0],\n",
    "                'n_estimators' :[  1,   2,   3,   4,   5,   6,   7,   8,   9,  10]}"
   ]
  },
  {
   "cell_type": "markdown",
   "metadata": {},
   "source": [
    "Serão feitos 2000 simulações, hipoteticamente cada simulação demore em média 1 minuto, totalizará 2000 minutos o que é aproximadamente 32.6 horas.\n",
    "\n",
    "$$\\text{Total de Simulacoes} = \\underbrace{100}_{10 \\cdot 10} \\cdot \\underbrace{20}_{n\\_splits} = 2000$$\n",
    "\n",
    "\n",
    "\n",
    "Note que usando esses _toys datasets_ as simulações são rápidas, mas no mundo real elas demoram. Portanto, é bom cultivar as boas práticas. A estratégia mais simples para otimizar os parâmetros é implementar a [_Divide-and-conquer algorithm_][divide_wiki] e isso foi feito inconscientemente ao realizar essas duas iterações.\n",
    "\n",
    "[divide_wiki]: https://en.wikipedia.org/wiki/Divide-and-conquer_algorithm"
   ]
  },
  {
   "cell_type": "markdown",
   "metadata": {},
   "source": [
    "Por fim, caso seja necessário a criação de um _classifier_ com os melhores parâmetros, você pode usar o `.best_estimator_`."
   ]
  },
  {
   "cell_type": "code",
   "execution_count": 18,
   "metadata": {},
   "outputs": [
    {
     "data": {
      "text/plain": [
       "AdaBoostClassifier(learning_rate=1, n_estimators=3)"
      ]
     },
     "execution_count": 18,
     "metadata": {},
     "output_type": "execute_result"
    }
   ],
   "source": [
    "# Criando um objeto que os melhores parametros.\n",
    "clf_otimizado = grid.best_estimator_\n",
    "\n",
    "# Visualizar o objeto para conferir os parametros.\n",
    "clf_otimizado"
   ]
  },
  {
   "cell_type": "markdown",
   "metadata": {},
   "source": [
    "### 6. _Cross Validation_ <a id='6'></a>\n",
    "\n",
    ">O que é Cross Validation?\n",
    "\n",
    "É o uso de um _dataset_ independente para avaliar o grau de generalização do seu modelo.\n",
    "\n",
    "Ressalto que esse **Jupyter Notebook** não tem a finalidade de discorrer sobre esse específico assunto, logo tomo como pressuposto que o leitor saiba exatamente o que é o _cross validation_ e os módulos envolvidos para realizá-lo.\n",
    "\n",
    "Observe que o `cross_validation` é feito ao configurar o parâmetro `cv` do `GridSearchCV`. Quando o cv é um número, entende-se que será feito um `StratifiedKFolds`, ao passo que se for atribuído ao `cv` um objeto do tipo `StratifiedShuffleSplit` ele usará esse objeto para realizar o `cross_validation`.\n",
    "\n",
    "Por último, se o `cv` for omitido na criação do objeto, o `GridSearchCV` entenderá que você fará por conta própria o _cross validation_, isso é o que ele chama de _third party_ _cross validation_.\n"
   ]
  },
  {
   "attachments": {
    "image.png": {
     "image/png": "[encoded data removed]"
    }
   },
   "cell_type": "markdown",
   "metadata": {},
   "source": [
    "![image.png](attachment:image.png)\n",
    "\n",
    "**Exemplo usando o StratifiedKFolds**"
   ]
  },
  {
   "cell_type": "code",
   "execution_count": 19,
   "metadata": {},
   "outputs": [
    {
     "data": {
      "text/plain": [
       "0.956716255030887"
      ]
     },
     "execution_count": 19,
     "metadata": {},
     "output_type": "execute_result"
    }
   ],
   "source": [
    "# Exemplo para o uso do StratifiedKFolds com 5 folds.\n",
    "grid_2 = GridSearchCV(estimator = clf,\n",
    "                      param_grid = parametros,\n",
    "                      cv = 5,\n",
    "                      scoring = 'f1')\n",
    "\n",
    "# Imprime o f1\n",
    "grid_2.fit(features,labels).best_score_"
   ]
  },
  {
   "cell_type": "markdown",
   "metadata": {},
   "source": [
    "**Exemplo usando o StratifiedShuffleSplit**"
   ]
  },
  {
   "cell_type": "code",
   "execution_count": 20,
   "metadata": {},
   "outputs": [
    {
     "data": {
      "text/plain": [
       "0.9588736081181907"
      ]
     },
     "execution_count": 20,
     "metadata": {},
     "output_type": "execute_result"
    }
   ],
   "source": [
    "# Exemplo para o uso do StratifiedShuffleSplit.\n",
    "\n",
    "# Importação do módulo do StratifiedShuffleSplit.\n",
    "from sklearn.model_selection import StratifiedShuffleSplit\n",
    "\n",
    "# Usando o constructor para criar o objeto sss\n",
    "sss = StratifiedShuffleSplit(n_splits = 20,       # 20 simulações.\n",
    "                             test_size = 0.2,     # 20% do dataset será de testes.\n",
    "                             random_state = 42)   # Permitir a reprodutibilidade.\n",
    "\n",
    "# Criando um objeto do GridSearchCV\n",
    "grid_3 = GridSearchCV(estimator = clf,\n",
    "                      param_grid = parametros,\n",
    "                      cv = sss,\n",
    "                      scoring = 'f1')\n",
    "\n",
    "# Imprime o f1\n",
    "grid_3.fit(features,labels).best_score_"
   ]
  },
  {
   "cell_type": "markdown",
   "metadata": {},
   "source": [
    "**Exemplo omitindo cv**"
   ]
  },
  {
   "cell_type": "code",
   "execution_count": 21,
   "metadata": {},
   "outputs": [
    {
     "data": {
      "text/plain": [
       "0.956716255030887"
      ]
     },
     "execution_count": 21,
     "metadata": {},
     "output_type": "execute_result"
    }
   ],
   "source": [
    "# Exemplo omitindo o cv.\n",
    "\n",
    "# Criando um objeto do GridSearchCV sem cv.\n",
    "grid_4 = GridSearchCV(estimator = clf,\n",
    "                      param_grid = parametros,\n",
    "                      scoring = 'f1')\n",
    "\n",
    "# Imprime o f1\n",
    "grid_4.fit(features,labels).best_score_"
   ]
  },
  {
   "cell_type": "markdown",
   "metadata": {},
   "source": [
    "Note que neste último caso estou cometendo um erro clássico de _overfitting_, pois estou usando todo o meu dataset para avaliar a performance do meu modelo. Desta maneira, deve-se separar o _features_ e o _labels_ em treino e teste antes de realizar o `fit`. Aconselha-se que use o `cv` interno do `GridSearchCV`, pois ele economizará muitas linhas de código."
   ]
  },
  {
   "cell_type": "markdown",
   "metadata": {},
   "source": [
    "### 7. _Scoring_ <a id='7'></a>\n",
    "\n",
    "Essa é a métrica utilizada para avaliar cada conjunto de parâmetros simulados pelo `GridSearchCV`, podem ser:\n",
    "\n",
    "* _recall_;\n",
    "* _precision_;\n",
    "* _accuracy_;\n",
    "* f1, ou;\n",
    "* fbeta_score (Obs.: Note que o `f1` é um caso específico do `fbeta_score` quando `beta = 1`.).\n",
    "\n",
    "Caso você tenha eligido o `f1` como os exemplos anteriores, o objeto do `GridSearchCV` terá somente valores de `f1`, isso pode limitar a avaliação do modelo. Desta maneira, introduz o `make_scorer` que é um módulo do Scikit Learn que possibilita o `GridSearchCV` a calcular várias métricas e as armazenando no objeto do `GridSearchCV`."
   ]
  },
  {
   "cell_type": "code",
   "execution_count": 22,
   "metadata": {},
   "outputs": [
    {
     "data": {
      "text/plain": [
       "0.9594559810582843"
      ]
     },
     "execution_count": 22,
     "metadata": {},
     "output_type": "execute_result"
    }
   ],
   "source": [
    "# Importando o Make Scorer\n",
    "from sklearn.metrics import make_scorer\n",
    "\n",
    "# Importando os módulos de cálculo de métricas\n",
    "from sklearn.metrics import precision_score\n",
    "from sklearn.metrics import accuracy_score\n",
    "from sklearn.metrics import recall_score\n",
    "from sklearn.metrics import fbeta_score\n",
    "\n",
    "# Criando um dicionário com as métricas que desejo calcular.\n",
    "meus_scores = {'accuracy' :make_scorer(accuracy_score),\n",
    "               'recall'   :make_scorer(recall_score),\n",
    "               'precision':make_scorer(precision_score),\n",
    "               'f1'       :make_scorer(fbeta_score, beta = 1)}\n",
    "\n",
    "# Exemplo para o uso scoring igual ao meus_scores.\n",
    "grid_5 = GridSearchCV(estimator = clf,\n",
    "                      param_grid = parametros,\n",
    "                      cv = 5,\n",
    "                      scoring = meus_scores,   # É o meus_scores\n",
    "                      refit = 'f1')            # Observe que foi configurado para f1\n",
    "\n",
    "# Imprime o f1\n",
    "grid_5.fit(features,labels).best_score_"
   ]
  },
  {
   "cell_type": "markdown",
   "metadata": {},
   "source": [
    "Vamos analisar o atributo `.cv_results_` para verificar se houve a adição das colunas com os valores de `recall`, `precision` e `f1`."
   ]
  },
  {
   "cell_type": "code",
   "execution_count": 23,
   "metadata": {},
   "outputs": [
    {
     "data": {
      "text/plain": [
       "['mean_fit_time',\n",
       " 'std_fit_time',\n",
       " 'mean_score_time',\n",
       " 'std_score_time',\n",
       " 'param_learning_rate',\n",
       " 'param_n_estimators',\n",
       " 'params',\n",
       " 'split0_test_accuracy',\n",
       " 'split1_test_accuracy',\n",
       " 'split2_test_accuracy',\n",
       " 'split3_test_accuracy',\n",
       " 'split4_test_accuracy',\n",
       " 'mean_test_accuracy',\n",
       " 'std_test_accuracy',\n",
       " 'rank_test_accuracy',\n",
       " 'split0_test_recall',\n",
       " 'split1_test_recall',\n",
       " 'split2_test_recall',\n",
       " 'split3_test_recall',\n",
       " 'split4_test_recall',\n",
       " 'mean_test_recall',\n",
       " 'std_test_recall',\n",
       " 'rank_test_recall',\n",
       " 'split0_test_precision',\n",
       " 'split1_test_precision',\n",
       " 'split2_test_precision',\n",
       " 'split3_test_precision',\n",
       " 'split4_test_precision',\n",
       " 'mean_test_precision',\n",
       " 'std_test_precision',\n",
       " 'rank_test_precision',\n",
       " 'split0_test_f1',\n",
       " 'split1_test_f1',\n",
       " 'split2_test_f1',\n",
       " 'split3_test_f1',\n",
       " 'split4_test_f1',\n",
       " 'mean_test_f1',\n",
       " 'std_test_f1',\n",
       " 'rank_test_f1']"
      ]
     },
     "execution_count": 23,
     "metadata": {},
     "output_type": "execute_result"
    }
   ],
   "source": [
    "# Imprime todas as colunas.\n",
    "pd.DataFrame(grid_5.cv_results_).columns.tolist()"
   ]
  },
  {
   "cell_type": "markdown",
   "metadata": {},
   "source": [
    "Conforme esperado, agora o objeto `grid` possui todas as métricas desejadas para uma análise detalhada. Abaixo faço um _subset_ para imprimir somente as colunas que são as médias dos _splits_. Note que foi escolhido a impressão dos resultados do _test_ para não incorrermos em _overfitting_."
   ]
  },
  {
   "cell_type": "code",
   "execution_count": 24,
   "metadata": {},
   "outputs": [
    {
     "data": {
      "text/html": [
       "<div>\n",
       "<style scoped>\n",
       "    .dataframe tbody tr th:only-of-type {\n",
       "        vertical-align: middle;\n",
       "    }\n",
       "\n",
       "    .dataframe tbody tr th {\n",
       "        vertical-align: top;\n",
       "    }\n",
       "\n",
       "    .dataframe thead th {\n",
       "        text-align: right;\n",
       "    }\n",
       "</style>\n",
       "<table border=\"1\" class=\"dataframe\">\n",
       "  <thead>\n",
       "    <tr style=\"text-align: right;\">\n",
       "      <th></th>\n",
       "      <th>params</th>\n",
       "      <th>mean_test_recall</th>\n",
       "      <th>mean_test_precision</th>\n",
       "      <th>mean_test_f1</th>\n",
       "    </tr>\n",
       "  </thead>\n",
       "  <tbody>\n",
       "    <tr>\n",
       "      <th>0</th>\n",
       "      <td>{'learning_rate': 0.5, 'n_estimators': 3}</td>\n",
       "      <td>0.949531</td>\n",
       "      <td>0.931589</td>\n",
       "      <td>0.940392</td>\n",
       "    </tr>\n",
       "    <tr>\n",
       "      <th>1</th>\n",
       "      <td>{'learning_rate': 0.5, 'n_estimators': 5}</td>\n",
       "      <td>0.960759</td>\n",
       "      <td>0.950388</td>\n",
       "      <td>0.955409</td>\n",
       "    </tr>\n",
       "    <tr>\n",
       "      <th>2</th>\n",
       "      <td>{'learning_rate': 0.5, 'n_estimators': 7}</td>\n",
       "      <td>0.963537</td>\n",
       "      <td>0.956070</td>\n",
       "      <td>0.959456</td>\n",
       "    </tr>\n",
       "    <tr>\n",
       "      <th>3</th>\n",
       "      <td>{'learning_rate': 1, 'n_estimators': 3}</td>\n",
       "      <td>0.971987</td>\n",
       "      <td>0.920543</td>\n",
       "      <td>0.944544</td>\n",
       "    </tr>\n",
       "    <tr>\n",
       "      <th>4</th>\n",
       "      <td>{'learning_rate': 1, 'n_estimators': 5}</td>\n",
       "      <td>0.938341</td>\n",
       "      <td>0.944599</td>\n",
       "      <td>0.941014</td>\n",
       "    </tr>\n",
       "    <tr>\n",
       "      <th>5</th>\n",
       "      <td>{'learning_rate': 1, 'n_estimators': 7}</td>\n",
       "      <td>0.949452</td>\n",
       "      <td>0.950085</td>\n",
       "      <td>0.949430</td>\n",
       "    </tr>\n",
       "    <tr>\n",
       "      <th>6</th>\n",
       "      <td>{'learning_rate': 1.5, 'n_estimators': 3}</td>\n",
       "      <td>0.929969</td>\n",
       "      <td>0.904937</td>\n",
       "      <td>0.915818</td>\n",
       "    </tr>\n",
       "    <tr>\n",
       "      <th>7</th>\n",
       "      <td>{'learning_rate': 1.5, 'n_estimators': 5}</td>\n",
       "      <td>0.943975</td>\n",
       "      <td>0.949929</td>\n",
       "      <td>0.946592</td>\n",
       "    </tr>\n",
       "    <tr>\n",
       "      <th>8</th>\n",
       "      <td>{'learning_rate': 1.5, 'n_estimators': 7}</td>\n",
       "      <td>0.963615</td>\n",
       "      <td>0.927735</td>\n",
       "      <td>0.944213</td>\n",
       "    </tr>\n",
       "  </tbody>\n",
       "</table>\n",
       "</div>"
      ],
      "text/plain": [
       "                                      params  mean_test_recall  \\\n",
       "0  {'learning_rate': 0.5, 'n_estimators': 3}          0.949531   \n",
       "1  {'learning_rate': 0.5, 'n_estimators': 5}          0.960759   \n",
       "2  {'learning_rate': 0.5, 'n_estimators': 7}          0.963537   \n",
       "3    {'learning_rate': 1, 'n_estimators': 3}          0.971987   \n",
       "4    {'learning_rate': 1, 'n_estimators': 5}          0.938341   \n",
       "5    {'learning_rate': 1, 'n_estimators': 7}          0.949452   \n",
       "6  {'learning_rate': 1.5, 'n_estimators': 3}          0.929969   \n",
       "7  {'learning_rate': 1.5, 'n_estimators': 5}          0.943975   \n",
       "8  {'learning_rate': 1.5, 'n_estimators': 7}          0.963615   \n",
       "\n",
       "   mean_test_precision  mean_test_f1  \n",
       "0             0.931589      0.940392  \n",
       "1             0.950388      0.955409  \n",
       "2             0.956070      0.959456  \n",
       "3             0.920543      0.944544  \n",
       "4             0.944599      0.941014  \n",
       "5             0.950085      0.949430  \n",
       "6             0.904937      0.915818  \n",
       "7             0.949929      0.946592  \n",
       "8             0.927735      0.944213  "
      ]
     },
     "execution_count": 24,
     "metadata": {},
     "output_type": "execute_result"
    }
   ],
   "source": [
    "# Fazendo uma subamostragem. \n",
    "pd.DataFrame(grid_5.cv_results_)[['params', 'mean_test_recall', 'mean_test_precision', 'mean_test_f1']]"
   ]
  },
  {
   "cell_type": "markdown",
   "metadata": {},
   "source": [
    "Note que para um computador é muito difícil a tarefa de escolha de um dos conjuntos de parâmetros sem que seja definido qual é a estratégia de escolha. Dessa maneira, define-se o `refit` para que o `GridSearchCV` possa eligir a melhor solução quando solicitado. No caso do exemplo acima foi definido `f1`, logo a solução de melhor `f1` é a `{'learning_rate': 0.5, 'n_estimators': 7}`.\n",
    "\n",
    "Caso seja necessário a impressão de várias métricas de um mesmo conjunto de parâmetros, pode-se usar uma _query_ para selecionar um conjunto de parâmetros. O exemplo abaixo seleciona-se o conjunto com o maior valor de `f1` e imprime os valores de `recall`, `precision` e `f1`."
   ]
  },
  {
   "cell_type": "code",
   "execution_count": 25,
   "metadata": {},
   "outputs": [
    {
     "data": {
      "text/html": [
       "<div>\n",
       "<style scoped>\n",
       "    .dataframe tbody tr th:only-of-type {\n",
       "        vertical-align: middle;\n",
       "    }\n",
       "\n",
       "    .dataframe tbody tr th {\n",
       "        vertical-align: top;\n",
       "    }\n",
       "\n",
       "    .dataframe thead th {\n",
       "        text-align: right;\n",
       "    }\n",
       "</style>\n",
       "<table border=\"1\" class=\"dataframe\">\n",
       "  <thead>\n",
       "    <tr style=\"text-align: right;\">\n",
       "      <th></th>\n",
       "      <th>params</th>\n",
       "      <th>mean_test_recall</th>\n",
       "      <th>mean_test_precision</th>\n",
       "      <th>mean_test_f1</th>\n",
       "    </tr>\n",
       "  </thead>\n",
       "  <tbody>\n",
       "    <tr>\n",
       "      <th>2</th>\n",
       "      <td>{'learning_rate': 0.5, 'n_estimators': 7}</td>\n",
       "      <td>0.963537</td>\n",
       "      <td>0.95607</td>\n",
       "      <td>0.959456</td>\n",
       "    </tr>\n",
       "  </tbody>\n",
       "</table>\n",
       "</div>"
      ],
      "text/plain": [
       "                                      params  mean_test_recall  \\\n",
       "2  {'learning_rate': 0.5, 'n_estimators': 7}          0.963537   \n",
       "\n",
       "   mean_test_precision  mean_test_f1  \n",
       "2              0.95607      0.959456  "
      ]
     },
     "execution_count": 25,
     "metadata": {},
     "output_type": "execute_result"
    }
   ],
   "source": [
    "# Filtrando os resultados para imprimir os parâmetros que possuem os melhores.\n",
    "pd.DataFrame(grid_5.cv_results_)[['params',\n",
    "                                  'mean_test_recall',\n",
    "                                  'mean_test_precision',\n",
    "                                  'mean_test_f1']].query('mean_test_f1 == mean_test_f1.max()')"
   ]
  },
  {
   "cell_type": "markdown",
   "metadata": {},
   "source": [
    "Com a definição de `refit` pode-se usar o `.best_params_`."
   ]
  },
  {
   "cell_type": "code",
   "execution_count": 26,
   "metadata": {},
   "outputs": [
    {
     "data": {
      "text/plain": [
       "{'learning_rate': 0.5, 'n_estimators': 7}"
      ]
     },
     "execution_count": 26,
     "metadata": {},
     "output_type": "execute_result"
    }
   ],
   "source": [
    "# Imprime os melhores parâmetros.\n",
    "grid_5.best_params_"
   ]
  },
  {
   "cell_type": "markdown",
   "metadata": {},
   "source": [
    "Ressalto que o atributo `.best_params_` **somente** existirá se o `refit` for definido."
   ]
  },
  {
   "cell_type": "markdown",
   "metadata": {},
   "source": [
    "### 8. Conclusões <a id='8'></a>\n",
    "\n",
    "Foram abordados quase todos os parâmetros do `GridSearchCV` e muito deles com exemplos. Foi possível observar que o `GridSearchCV` automatiza grande parte do processo de _tuning_, bem como possui um processo de _cross validation_ interno que é muito prático."
   ]
  },
  {
   "cell_type": "markdown",
   "metadata": {},
   "source": [
    "## Referências\n",
    "\n",
    "#### Tags\n",
    "\n",
    "* Autor: AH Uyekita\n",
    "* Data: 2019/03/22\n",
    "* Post: [Como usar o `GridSearchCV`][post_url]\n",
    "\n",
    "[post_url]: https://andersonuyekita.github.io/notebooks/blog/como-usar-o-gridsearchcv/\n",
    "\n",
    "#### Descrição\n",
    "\n",
    "Esse é um arquivo de acompanhamento do _post_ de mesmo nome.\n"
   ]
  }
 ],
 "metadata": {
  "kernelspec": {
   "display_name": "Python 3 (ipykernel)",
   "language": "python",
   "name": "python3"
  },
  "language_info": {
   "codemirror_mode": {
    "name": "ipython",
    "version": 3
   },
   "file_extension": ".py",
   "mimetype": "text/x-python",
   "name": "python",
   "nbconvert_exporter": "python",
   "pygments_lexer": "ipython3",
   "version": "3.10.4"
  }
 },
 "nbformat": 4,
 "nbformat_minor": 2
}
