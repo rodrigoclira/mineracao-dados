{
  "nbformat": 4,
  "nbformat_minor": 0,
  "metadata": {
    "colab": {
      "name": "ativ_regressao.ipynb",
      "private_outputs": true,
      "provenance": [],
      "collapsed_sections": [],
      "authorship_tag": "ABX9TyMRrK5fKw/J3OmXAwMGwSQZ",
      "include_colab_link": true
    },
    "kernelspec": {
      "name": "python3",
      "display_name": "Python 3"
    },
    "language_info": {
      "name": "python"
    }
  },
  "cells": [
    {
      "cell_type": "markdown",
      "metadata": {
        "id": "view-in-github",
        "colab_type": "text"
      },
      "source": [
        "<a href=\"https://colab.research.google.com/github/rodrigoclira/mineracao-dados/blob/main/ativ_regressao.ipynb\" target=\"_parent\"><img src=\"https://colab.research.google.com/assets/colab-badge.svg\" alt=\"Open In Colab\"/></a>"
      ]
    },
    {
      "cell_type": "markdown",
      "source": [
        "# Bike Sharing Dataset Data Set"
      ],
      "metadata": {
        "id": "Hd2DraFFr6m5"
      }
    },
    {
      "cell_type": "markdown",
      "source": [
        "# Introdução\n",
        "\n",
        "Forneceremos um tutorial passo a passo do “Data Science Pipeline” que pode ser usado como guia para projetos de ciência de dados. Vamos considerar as seguintes fases:\n",
        "\n",
        "* Coleta/curadoria de dados\n",
        "* Gestão de Dados/Representação\n",
        "* Análise exploratória de dados\n",
        "* Teste de hipóteses e aprendizado de máquina\n",
        "* Comunicação de insights atendidos\n",
        "\n",
        "Para este projeto, consideraremos um problema de aprendizado de máquina supervisionado e, mais particularmente, um modelo de regressão.\n",
        "\n",
        "Os modelos de Regressão envolvem os seguintes componentes:\n",
        "\n",
        "* As variáveis independentes, que são observadas nos dados e são frequentemente denotadas como um vetor X\n",
        "\n",
        "* A variável dependente, que é observada em dados e muitas vezes denotada usando o escalar Y \n",
        "\n",
        "* Os termos de erro, que não são observados diretamente nos dados e são frequentemente denotados usando o escalar *e*\n",
        "\n",
        "Este tutorial é baseado na linguagem de programação Python e trabalharemos com diferentes bibliotecas como pandas, numpy, matplotlib, scikit-learn e assim por diante. Por fim, neste tutorial, fornecemos referências e recursos na forma de hiperlinks."
      ],
      "metadata": {
        "id": "i0CAFveCsAP-"
      }
    },
    {
      "cell_type": "markdown",
      "source": [
        "# Coleta de Dados\n",
        "\n",
        "O [UC Irvine Machine Learning Repository](https://archive.ics.uci.edu/ml/index.html) é um repositório de aprendizado de máquina que mantém 585 conjuntos de dados como um serviço para a comunidade de aprendizado de máquina. Você pode visualizar todos os conjuntos de dados por meio de nossa interface pesquisável. Para uma visão geral do Repositório, visite nossa página Sobre. Para obter informações sobre como citar conjuntos de dados em publicação. Para nosso projeto, optamos por trabalhar com o [Bike Sharing Dataset Data Set](https://archive.ics.uci.edu/ml/datasets/Bike+Sharing+Dataset).\n",
        "\n",
        "## Bike Sharing Dataset\n",
        "\n",
        "Este conjunto de dados contém a contagem horária de bicicletas alugadas entre 2011 e 2012 no [sistema de bicicletas compartilhadas da Washiton DC](https://ride.capitalbikeshare.com/) com as informações meteorológicas e sazonais correspondentes. Nosso objetivo é construir um modelo de Machine Learning que seja capaz de prever a contagem de bicicletas alugadas."
      ],
      "metadata": {
        "id": "BlHOtXjqtEuO"
      }
    },
    {
      "cell_type": "markdown",
      "source": [
        "## Conhecimento dos Dados\n",
        "\n",
        "Os campos do nosso conjunto de dados são os seguintes:\n",
        "\n",
        "- **instant**: índice da instância\n",
        "- **dteday**: data\n",
        "- **season**: estação do ano (1:primavera, 2:verão, 3:outono, 4:inverno)\n",
        "- **yr**: ano (0: 2011, 1:2012)\n",
        "- **mnth** mês ( 1 a 12)\n",
        "- **hr**: hora (0 a 23)\n",
        "- **holiday**: se é feriado ou não (extraído do http://dchr.dc.gov/page/holiday-schedule)\n",
        "- **weekday**: dia da semana\n",
        "- **workingday**: se o dia não é feriado ou final de semana é 1, caso contrário é 0.\n",
        "- **weathersit**: \n",
        "    - 1: Limpo, Poucas nuvens, Parcialmente nublado\n",
        "    - 2: Neblina + Nublado, Neblina + Nuvens Cumulus, Neblina + Pouca Nuvens, Neblina\n",
        "    - 3: Pouca meve, Pouca chuva + Trovoada + Nuvens Dispersas, Pouca Chuva + Nuvens Dispersas\n",
        "    - 4: Chuva Forte + Grãos de Gelo + Trovoada + Neblina, Neve + Névoa\n",
        "- **temp**: Temperatura normalizada em Celsius. Os valores são divididos por 41 (max)\n",
        "- **atemp**: Sensação de temperatura normalizada em Celsius. Os valores são divididos por 50 (max)\n",
        "- **hum**: Umidade normalizada. Os valores são divididos por 100 (max)\n",
        "- **windspeed**: Velocidade do vento normalizada. Os valores são divididos por 67 (max)\n",
        "- **casual**: contagem de usuários casuais\n",
        "- **registered**: contagem de usuários registrados\n",
        "- **cnt**: contagem do total de bicicletas alugadas, incluindo bicicletas casuais e registradas\n",
        "\n",
        "\n",
        "Vamos começar a análise carregando os dados."
      ],
      "metadata": {
        "id": "_GWElMTot0DR"
      }
    },
    {
      "cell_type": "code",
      "source": [
        "import pandas as pd\n",
        "import matplotlib.pyplot as plt\n",
        "import seaborn as sns\n",
        "from sklearn.model_selection import train_test_split\n",
        "import numpy as np"
      ],
      "metadata": {
        "id": "DGbd2ILnw9NS"
      },
      "execution_count": null,
      "outputs": []
    },
    {
      "cell_type": "markdown",
      "source": [
        "dataset: https://raw.githubusercontent.com/rodrigoclira/mineracao-dados/main/datasets/hour.csv"
      ],
      "metadata": {
        "id": "VmfJZEokmNyZ"
      }
    },
    {
      "cell_type": "code",
      "source": [
        "# Crie um dataframe na variável df usando a base do projeto\n",
        "df = \n",
        "\n",
        "# obter as primeiras linhas\n",
        "df.head()"
      ],
      "metadata": {
        "id": "PT39nQS0s5I1"
      },
      "execution_count": null,
      "outputs": []
    },
    {
      "cell_type": "markdown",
      "source": [
        "# Pré-Processamento\n",
        "\n",
        "## Vazamento de recursos\n",
        "\n",
        "Se observarmos cuidadosamente nossos dados, veremos que a adição das colunas “casual” e “registered” resulta na coluna cnt. Isso é o que chamamos de vazamento e, por esse motivo, vamos removê-los do nosso conjunto de dados. \n",
        "\n",
        "A razão para isso é que quando queremos prever o total de aluguel de bicicletas \"cnt\", não teremos como informar a quantidade “casual” e a “registered”. "
      ],
      "metadata": {
        "id": "IneGGATOxJLM"
      }
    },
    {
      "cell_type": "code",
      "execution_count": null,
      "metadata": {
        "id": "T40YKWqjrmsA"
      },
      "outputs": [],
      "source": [
        "# Remova as colunas 'casual' e 'registered' do Dataframe"
      ]
    },
    {
      "cell_type": "code",
      "source": [
        "# Também removeremos o `instant` do nosso modelo já que não é uma variável explicativa..\n",
        "# Remova a coluna instant"
      ],
      "metadata": {
        "id": "lBc452UZr0yg"
      },
      "execution_count": null,
      "outputs": []
    },
    {
      "cell_type": "markdown",
      "source": [
        "Transforme as colunas no tipo de dados correto.\n",
        "Vamos alterar o Tipo de Dados das seguintes colunas:\n",
        "\n",
        "* **dteday**: Converter para Date\n",
        "* **season**: Converter para Categorical\n",
        "* **weekday**: Converter para Categorical\n",
        "* **mnth**: Converter para Categorical"
      ],
      "metadata": {
        "id": "BGMO-4kJrtDZ"
      }
    },
    {
      "cell_type": "code",
      "source": [
        "# Vamos converter para datetime usando pd.to_datetime\n",
        "# Vamos converter para category astype\n",
        "\n",
        "df['dteday'] = \n",
        "df['season'] = \n",
        "df['weekday'] = \n",
        "df['mnth'] = \n",
        " \n",
        "# check the data types\n",
        "df.dtypes"
      ],
      "metadata": {
        "id": "0tyRy8oSyhGC"
      },
      "execution_count": null,
      "outputs": []
    },
    {
      "cell_type": "markdown",
      "source": [
        "O resultado deve ser algo como: \n",
        "![image.png](data:image/png;base64,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)"
      ],
      "metadata": {
        "id": "B6PysGGmywtW"
      }
    },
    {
      "cell_type": "markdown",
      "source": [
        "# Checando os valores ausentes\n",
        "\n",
        "Neste ponto, verificaremos quaisquer valores ausentes em nossos dados.\n"
      ],
      "metadata": {
        "id": "ZNHlEPMcy0tm"
      }
    },
    {
      "cell_type": "code",
      "source": [
        "#Verificar se há dados ausentes"
      ],
      "metadata": {
        "id": "i8O95aYly0Bq"
      },
      "execution_count": null,
      "outputs": []
    },
    {
      "cell_type": "markdown",
      "source": [
        "Como podemos ver, não há valor ausente em nenhum campo."
      ],
      "metadata": {
        "id": "vNQsR11hzE-P"
      }
    },
    {
      "cell_type": "markdown",
      "source": [
        "# Checando valores duplicados\n",
        "\n",
        "Neste ponto, verificaremos se há valores duplicados, onde como podemos ver abaixo, não há valores duplicados. Então, estamos ok para prosseguir."
      ],
      "metadata": {
        "id": "X5tU6_6zzH62"
      }
    },
    {
      "cell_type": "code",
      "source": [
        "#Verificar se há dados duplicados"
      ],
      "metadata": {
        "id": "3oOgOUY_zP4_"
      },
      "execution_count": null,
      "outputs": []
    },
    {
      "cell_type": "markdown",
      "source": [
        "# Descrição do Dataset\n",
        "\n",
        "Vamos ver um resumo de nossos campos de dados para as variáveis contínuas mostrando a média, std, min, max e Q2, Q3."
      ],
      "metadata": {
        "id": "CwdW907jNBiq"
      }
    },
    {
      "cell_type": "code",
      "source": [
        "df.describe()"
      ],
      "metadata": {
        "id": "0j0zIyCwzDxS"
      },
      "execution_count": null,
      "outputs": []
    },
    {
      "cell_type": "markdown",
      "source": [
        "Por fim, vamos obter o número de linhas e colunas do nosso conjunto de dados até agora."
      ],
      "metadata": {
        "id": "leVy1bldNWyz"
      }
    },
    {
      "cell_type": "code",
      "source": [
        "# Visualizar as dimensões do dataset"
      ],
      "metadata": {
        "id": "uE2wmgBrNYhZ"
      },
      "execution_count": null,
      "outputs": []
    },
    {
      "cell_type": "markdown",
      "source": [
        "# Análise Exploratória (Exploratory Data Analysis - EDA)\n",
        "\n",
        "Neste ponto, executamos uma análise exploratória. Vamos dar uma olhada no Aluguel de Bicicletas ao longo do tempo.\n",
        "\n",
        "Gráfico de Séries Temporais de Bicicletas de Aluguel por Hora"
      ],
      "metadata": {
        "id": "yT5Ftx8FNcUa"
      }
    },
    {
      "cell_type": "code",
      "source": [
        "df.plot(x='dteday', y='cnt', figsize=(20,12), title = 'Alugel de bicicletas por data')\n",
        "plt.ylabel('cnt')"
      ],
      "metadata": {
        "id": "piqJdTNsNr2H"
      },
      "execution_count": null,
      "outputs": []
    },
    {
      "cell_type": "markdown",
      "source": [
        "Distribuição das Bicicletas de Aluguel"
      ],
      "metadata": {
        "id": "lGfkS00VNvQH"
      }
    },
    {
      "cell_type": "code",
      "source": [
        "df['cnt'].plot.hist(bins=20, figsize=(12,8))"
      ],
      "metadata": {
        "id": "2VxMqwhANyyZ"
      },
      "execution_count": null,
      "outputs": []
    },
    {
      "cell_type": "code",
      "source": [
        "df.boxplot(by='yr', column='cnt', figsize=(12,8))\n",
        "plt.title(\"Aluguel de bicicletas por Ano\")"
      ],
      "metadata": {
        "id": "GrGhE4P6N5tU"
      },
      "execution_count": null,
      "outputs": []
    },
    {
      "cell_type": "code",
      "source": [
        "df.boxplot(by='mnth', column='cnt', figsize=(12,8))\n",
        "plt.title(\"Aluguel de bicicletas por Mês\")"
      ],
      "metadata": {
        "id": "LzAqVjayN4Pz"
      },
      "execution_count": null,
      "outputs": []
    },
    {
      "cell_type": "code",
      "source": [
        "df.boxplot(by=['hr'], column='cnt', figsize=(12,8))\n",
        "plt.title(\"Aluguel de bicicletas por Hora\")"
      ],
      "metadata": {
        "id": "531jGcpSOXwR"
      },
      "execution_count": null,
      "outputs": []
    },
    {
      "cell_type": "code",
      "source": [
        "df.boxplot(by=['weekday'], column='cnt', figsize=(12,8))\n",
        "plt.title(\"Aluguel de bicicletas por Dia da Semana\")"
      ],
      "metadata": {
        "id": "GNPF7mOYOhsX"
      },
      "execution_count": null,
      "outputs": []
    },
    {
      "cell_type": "code",
      "source": [
        "df.boxplot(by='season', column='cnt', figsize=(12,8))\n",
        "plt.title(\"Aluguel de bicicletas por Estações\")"
      ],
      "metadata": {
        "id": "UGR_-MSTOKCm"
      },
      "execution_count": null,
      "outputs": []
    },
    {
      "cell_type": "code",
      "source": [
        "df.boxplot(by=['season','yr'], column='cnt', figsize=(12,8))\n",
        "plt.title(\"Aluguel de bicicletas por Estações e Ano\")"
      ],
      "metadata": {
        "id": "95mBUbb0ORCD"
      },
      "execution_count": null,
      "outputs": []
    },
    {
      "cell_type": "markdown",
      "source": [
        "# Mapa de calor de correlação e correlação\n",
        "\n",
        "Retornaremos o coeficiente de correlação de Pearson das variáveis numéricas."
      ],
      "metadata": {
        "id": "Q8kiPo73OoNp"
      }
    },
    {
      "cell_type": "code",
      "source": [
        "#Gerar a correlação em formato de tabela"
      ],
      "metadata": {
        "id": "tUGwEOzgOwXu"
      },
      "execution_count": null,
      "outputs": []
    },
    {
      "cell_type": "code",
      "source": [
        "# correlação de Aluguel de Bicicletas versus as variáveis de descanso\n",
        "df.drop('cnt', axis=1).corrwith(df.cnt)"
      ],
      "metadata": {
        "id": "pJOoaKP3PNWO"
      },
      "execution_count": null,
      "outputs": []
    },
    {
      "cell_type": "code",
      "source": [
        "#Gerar a correlação usando heatmap\n",
        "plt.figure(figsize=(12,8))"
      ],
      "metadata": {
        "id": "0QnFAm2iPhus"
      },
      "execution_count": null,
      "outputs": []
    },
    {
      "cell_type": "markdown",
      "source": [
        "# Multi colineariade\n",
        "\n",
        "Como esperado, temp e atemp estão fortemente correlacionados causando um problema de muticolinearidade e é por isso que manteremos apenas um. Vamos remover o temp."
      ],
      "metadata": {
        "id": "NaKi5H1WP2yk"
      }
    },
    {
      "cell_type": "code",
      "source": [
        "# Remover a coluna 'temp'\n",
        "\n",
        "# Remova também a coluna de 'data', pois não a usaremos para a modelagem de aprendizado de máquina"
      ],
      "metadata": {
        "id": "w0ysCobTQsxT"
      },
      "execution_count": null,
      "outputs": []
    },
    {
      "cell_type": "markdown",
      "source": [
        "# Teste de hipóteses e aprendizado de máquina\n",
        "\n",
        "Antes de começarmos a analisar nossos modelos, precisaremos aplicar a codificação one-hot às variáveis categóricas. Faremos isso aplicando a função get_dummies.\n",
        "\n",
        "## One-Hot Encoding"
      ],
      "metadata": {
        "id": "wBEX-YcbQ0VX"
      }
    },
    {
      "cell_type": "code",
      "source": [
        "# Faça o one-hot encoding em toda a base\n",
        "df = "
      ],
      "metadata": {
        "id": "OkoMA16tQ_z4"
      },
      "execution_count": null,
      "outputs": []
    },
    {
      "cell_type": "markdown",
      "source": [
        "# Train-Test Dataset\n",
        "Para nossa análise, dividimos o conjunto de dados em treinar e testar (75% -25%) para construir os modelos no conjunto de dados de treino e avaliá-los no conjunto de dados de teste."
      ],
      "metadata": {
        "id": "d2Pmknh1RDoa"
      }
    },
    {
      "cell_type": "code",
      "source": [
        "# Separe os atributos X e a variável alvo (y)\n",
        "y = \n",
        "X = "
      ],
      "metadata": {
        "id": "VnLetGMmSgXZ"
      },
      "execution_count": null,
      "outputs": []
    },
    {
      "cell_type": "markdown",
      "source": [
        "Agora vamos separar os dados de treino e teste. Deixando 25% dos dados para teste e usando o random_state igual a 5"
      ],
      "metadata": {
        "id": "3J5UqCEkkflG"
      }
    },
    {
      "cell_type": "code",
      "source": [
        "#Separe os dados de treino e teste (X_train, X_test, y_train, y_test)"
      ],
      "metadata": {
        "id": "W4rEcLpHRDKs"
      },
      "execution_count": null,
      "outputs": []
    },
    {
      "cell_type": "code",
      "source": [
        "X_train"
      ],
      "metadata": {
        "id": "ccm-WJTJSGt0"
      },
      "execution_count": null,
      "outputs": []
    },
    {
      "cell_type": "markdown",
      "source": [
        "# Modelagem\n",
        "\n",
        "Vamos experimentar diferentes modelos de aprendizado de máquina\n",
        "\n",
        "* Regressão linear\n",
        "* Random Forest\n",
        "\n",
        "e vamos escolher aquele com o menor RMSE.\n",
        "\n",
        "## Linear Regression"
      ],
      "metadata": {
        "id": "x2ArXA0GQ7qe"
      }
    },
    {
      "cell_type": "code",
      "source": [
        "from sklearn.metrics import mean_squared_error\n",
        "from sklearn.linear_model import LinearRegression\n",
        " \n",
        "reg = LinearRegression().fit(X_train, y_train)\n",
        " \n",
        "# Obtendo o RMSE para o conjunto de dados de treino\n",
        "erro_treino = np.sqrt(mean_squared_error(y_train, reg.predict(X_train)))\n",
        " \n",
        "# Obtendo o RMSE para o conjunto de dados de teste\n",
        "erro_teste = np.sqrt(mean_squared_error(y_test, reg.predict(X_test)))\n",
        "\n",
        "print(\"Regressão Linear\")\n",
        "print(f\"O Erro RMSE de Treino foi {erro_treino}\")\n",
        "print(f\"O Erro RMSE de Teste foi {erro_teste}\")"
      ],
      "metadata": {
        "id": "S7ZmqhnlRvHI"
      },
      "execution_count": null,
      "outputs": []
    },
    {
      "cell_type": "markdown",
      "source": [
        "# Random Forest"
      ],
      "metadata": {
        "id": "5cts6qm0Taai"
      }
    },
    {
      "cell_type": "code",
      "source": [
        "from sklearn.ensemble import RandomForestRegressor\n",
        " \n",
        "rf = RandomForestRegressor().fit(X_train, y_train)\n",
        " \n",
        "# Obtendo o RMSE para o conjunto de dados de treino\n",
        "erro_treino = np.sqrt(mean_squared_error(y_train, rf.predict(X_train)))\n",
        " \n",
        "# Obtendo o RMSE para o conjunto de dados de teste\n",
        "erro_teste =  np.sqrt(mean_squared_error(y_test, rf.predict(X_test)))\n",
        "\n",
        "print(\"Random Forest\")\n",
        "print(f\"O Erro RMSE de Treino foi {erro_treino}\")\n",
        "print(f\"O Erro RMSE de Teste foi {erro_teste}\")"
      ],
      "metadata": {
        "id": "0Wy4M8cnTOoe"
      },
      "execution_count": null,
      "outputs": []
    },
    {
      "cell_type": "code",
      "source": [
        "rf"
      ],
      "metadata": {
        "id": "8OkxECIZZuK6"
      },
      "execution_count": null,
      "outputs": []
    },
    {
      "cell_type": "markdown",
      "source": [
        "# Escolhendo o Melhor Modelo\n",
        "\n",
        "Com base no RMSE no conjunto de dados de treinamento e teste, o melhor modelo é o Random Forest.\n",
        "\n",
        "## Análise estatística\n",
        "\n",
        "Com base na análise estatística e no Gini, definiremos as variáveis mais importantes do modelo Random Forest.\n"
      ],
      "metadata": {
        "id": "y19m7JrBUBWb"
      }
    },
    {
      "cell_type": "code",
      "source": [
        "feat_importances = pd.DataFrame(rf.feature_importances_, index=X_train.columns, columns=[\"Importance\"])\n",
        "feat_importances.sort_values(by='Importance', ascending=False, inplace=True)\n",
        "feat_importances"
      ],
      "metadata": {
        "id": "PzZiLHBiULHR"
      },
      "execution_count": null,
      "outputs": []
    },
    {
      "cell_type": "code",
      "source": [
        "feat_importances.plot(kind='bar', figsize=(12,8))"
      ],
      "metadata": {
        "id": "y7mamJBlUQAC"
      },
      "execution_count": null,
      "outputs": []
    },
    {
      "cell_type": "markdown",
      "source": [
        "Como podemos ver as variáveis mais importantes são:\n",
        "\n",
        "* A hora com 60%\n",
        "* A temperatura com 14%\n",
        "* O ano com 8%"
      ],
      "metadata": {
        "id": "0SvFT9t1UUyn"
      }
    },
    {
      "cell_type": "markdown",
      "source": [
        "# Tunig + GridSearch"
      ],
      "metadata": {
        "id": "97xEN1HBU1Wa"
      }
    },
    {
      "cell_type": "markdown",
      "source": [
        "Agora vamos avaliar um pouco os hiperparâmetros do RandomForest (nosso melhor modelo). Iremos usar o GridSearch para testar diferentes valores do hiperparâmetro 'n_estimators'. Vamos avaliar os seguintes valores 50, 100, 200, 300"
      ],
      "metadata": {
        "id": "Q4E6CUXok7_a"
      }
    },
    {
      "cell_type": "code",
      "source": [
        "from sklearn.model_selection import GridSearchCV\n",
        "\n",
        "# Crie a grade de parâmetros com base nos resultados que vai testar os valores\n",
        "# 50, 100, 200, 300 para o n_estimators\n",
        "param_grid = {    \n",
        "    \n",
        "}\n",
        "\n",
        "# Criar um modelo\n",
        "rf = RandomForestRegressor()\n",
        "\n",
        "# Instanciar o modelo de pesquisa de grade\n",
        "grid_search = GridSearchCV(estimator = rf, param_grid = param_grid, \n",
        "                          cv = 5, n_jobs = -1, verbose = 10)\n"
      ],
      "metadata": {
        "id": "PSai7Eb6VunH"
      },
      "execution_count": null,
      "outputs": []
    },
    {
      "cell_type": "code",
      "source": [
        "# Fit the grid search to the data\n",
        "grid_search.fit(X_train, y_train)"
      ],
      "metadata": {
        "id": "1diFx7xOWGue"
      },
      "execution_count": null,
      "outputs": []
    },
    {
      "cell_type": "markdown",
      "source": [
        "Exibindo os melhores hiperparâmetros"
      ],
      "metadata": {
        "id": "Ufp0tdMcnGQR"
      }
    },
    {
      "cell_type": "code",
      "source": [
        "grid_search.best_params_"
      ],
      "metadata": {
        "id": "manT9TRNWIJl"
      },
      "execution_count": null,
      "outputs": []
    },
    {
      "cell_type": "code",
      "source": [
        "#Obtenha o melhor modelo do grid_search\n",
        "best_grid = "
      ],
      "metadata": {
        "id": "y_icsNdlgpYc"
      },
      "execution_count": null,
      "outputs": []
    },
    {
      "cell_type": "markdown",
      "source": [
        "Definindo uma função para exibir a curva de aprendizado"
      ],
      "metadata": {
        "id": "xkMGhDaOhA_6"
      }
    },
    {
      "cell_type": "code",
      "source": [
        "from sklearn.model_selection import learning_curve\n",
        "\n",
        "def plot_learning_curve(estimator, title, X, y, ylim=None, cv=None,\n",
        "                        n_jobs=None, train_sizes=np.linspace(.1, 1.0, 5)):\n",
        "    \"\"\"\n",
        "    Generate a simple plot of the test and training learning curve.\n",
        "\n",
        "    Parameters\n",
        "    ----------\n",
        "    estimator : object type that implements the \"fit\" and \"predict\" methods\n",
        "        An object of that type which is cloned for each validation.\n",
        "\n",
        "    title : string\n",
        "        Title for the chart.\n",
        "\n",
        "    X : array-like, shape (n_samples, n_features)\n",
        "        Training vector, where n_samples is the number of samples and\n",
        "        n_features is the number of features.\n",
        "\n",
        "    y : array-like, shape (n_samples) or (n_samples, n_features), optional\n",
        "        Target relative to X for classification or regression;\n",
        "        None for unsupervised learning.\n",
        "\n",
        "    ylim : tuple, shape (ymin, ymax), optional\n",
        "        Defines minimum and maximum yvalues plotted.\n",
        "\n",
        "    cv : int, cross-validation generator or an iterable, optional\n",
        "        Determines the cross-validation splitting strategy.\n",
        "        Possible inputs for cv are:\n",
        "          - None, to use the default 3-fold cross-validation,\n",
        "          - integer, to specify the number of folds.\n",
        "          - An object to be used as a cross-validation generator.\n",
        "          - An iterable yielding train/test splits.\n",
        "\n",
        "        For integer/None inputs, if ``y`` is binary or multiclass,\n",
        "        :class:`StratifiedKFold` used. If the estimator is not a classifier\n",
        "        or if ``y`` is neither binary nor multiclass, :class:`KFold` is used.\n",
        "\n",
        "        Refer :ref:`User Guide <cross_validation>` for the various\n",
        "        cross-validators that can be used here.\n",
        "\n",
        "    n_jobs : int or None, optional (default=None)\n",
        "        Number of jobs to run in parallel.\n",
        "        ``None`` means 1 unless in a :obj:`joblib.parallel_backend` context.\n",
        "        ``-1`` means using all processors. See :term:`Glossary <n_jobs>`\n",
        "        for more details.\n",
        "\n",
        "    train_sizes : array-like, shape (n_ticks,), dtype float or int\n",
        "        Relative or absolute numbers of training examples that will be used to\n",
        "        generate the learning curve. If the dtype is float, it is regarded as a\n",
        "        fraction of the maximum size of the training set (that is determined\n",
        "        by the selected validation method), i.e. it has to be within (0, 1].\n",
        "        Otherwise it is interpreted as absolute sizes of the training sets.\n",
        "        Note that for classification the number of samples usually have to\n",
        "        be big enough to contain at least one sample from each class.\n",
        "        (default: np.linspace(0.1, 1.0, 5))\n",
        "    \"\"\"\n",
        "    plt.figure()\n",
        "    plt.title(title)\n",
        "    if ylim is not None:\n",
        "        plt.ylim(*ylim)\n",
        "    plt.xlabel(\"Training examples\")\n",
        "    plt.ylabel(\"Score\")\n",
        "    train_sizes, train_scores, test_scores = learning_curve(\n",
        "        estimator, X, y, cv=cv, n_jobs=n_jobs, train_sizes=train_sizes)\n",
        "    train_scores_mean = np.mean(train_scores, axis=1)\n",
        "    train_scores_std = np.std(train_scores, axis=1)\n",
        "    test_scores_mean = np.mean(test_scores, axis=1)\n",
        "    test_scores_std = np.std(test_scores, axis=1)\n",
        "    plt.grid()\n",
        "\n",
        "    plt.fill_between(train_sizes, train_scores_mean - train_scores_std,\n",
        "                     train_scores_mean + train_scores_std, alpha=0.1,\n",
        "                     color=\"r\")\n",
        "    plt.fill_between(train_sizes, test_scores_mean - test_scores_std,\n",
        "                     test_scores_mean + test_scores_std, alpha=0.1, color=\"g\")\n",
        "    plt.plot(train_sizes, train_scores_mean, 'o-', color=\"r\",\n",
        "             label=\"Training score\")\n",
        "    plt.plot(train_sizes, test_scores_mean, 'o-', color=\"g\",\n",
        "             label=\"Cross-validation score\")\n",
        "\n",
        "    plt.legend(loc=\"best\")\n",
        "    return plt\n"
      ],
      "metadata": {
        "id": "CEbGK3BGf_M8"
      },
      "execution_count": null,
      "outputs": []
    },
    {
      "cell_type": "markdown",
      "source": [
        "Abaixo é usado a função definida anteriormente para criar uma curva de aprendizado"
      ],
      "metadata": {
        "id": "QxQsjgu4imJF"
      }
    },
    {
      "cell_type": "code",
      "source": [
        "plot_learning_curve(best_grid, \"Curva de Aprendizado\", X_train, y_train, (0.7, 1.01), cv=5, n_jobs=5)"
      ],
      "metadata": {
        "id": "lLIBI0RBeOsQ"
      },
      "execution_count": null,
      "outputs": []
    },
    {
      "cell_type": "code",
      "source": [
        "plt.show()"
      ],
      "metadata": {
        "id": "aRN2RT7CgZ7j"
      },
      "execution_count": null,
      "outputs": []
    },
    {
      "cell_type": "code",
      "source": [
        "# Obtendo o RMSE para o conjunto de dados de treino\n",
        "erro_treino = np.sqrt(mean_squared_error(y_train, best_grid.predict(X_train)))\n",
        " \n",
        "# Obtendo o RMSE para o conjunto de dados de teste\n",
        "erro_teste =  np.sqrt(mean_squared_error(y_test, best_grid.predict(X_test)))"
      ],
      "metadata": {
        "id": "Wo8TYn_UWIuc"
      },
      "execution_count": null,
      "outputs": []
    },
    {
      "cell_type": "code",
      "source": [
        "print(\"Random Forest Tunado\")\n",
        "print(f\"O Erro RMSE de Treino foi {erro_treino}\")\n",
        "print(f\"O Erro RMSE de Teste foi {erro_teste}\")"
      ],
      "metadata": {
        "id": "ZJBkksMpXBwp"
      },
      "execution_count": null,
      "outputs": []
    },
    {
      "cell_type": "markdown",
      "source": [
        "# Insights\n",
        "\n",
        "Descobrimos que o número de Aluguéis de Bicicletas depende da hora e da temperatura. Além disso, parece que há uma interação entre as variáveis, como hora e dia da semana, ou mês e ano etc e, por esse motivo, os modelos baseados em árvore como Random Forest teve um desempenho muito melhor que a regressão linear. Além disso, os modelos baseados em árvore são capazes de capturar relações não lineares, por exemplo, as horas e a temperatura não têm uma relação linear, por exemplo, se estiver extremamente quente ou frio, o aluguel de bicicletas pode cair. Nosso modelo tem um RMSE de 42 no conjunto de dados de teste, o que parece ser promissor."
      ],
      "metadata": {
        "id": "PvO54-_hUZud"
      }
    },
    {
      "cell_type": "markdown",
      "source": [
        "# Referências\n",
        "\n",
        "* https://predictivehacks.com/an-example-of-a-data-science-pipeline-in-python-on-bike-sharing-dataset/\n",
        "\n",
        "* https://towardsdatascience.com/hyperparameter-tuning-the-random-forest-in-python-using-scikit-learn-28d2aa77dd74\n",
        "\n",
        "* https://docs.w3cub.com/scikit_learn/auto_examples/model_selection/plot_learning_curve"
      ],
      "metadata": {
        "id": "Cv1pzsM5VkdJ"
      }
    }
  ]
}