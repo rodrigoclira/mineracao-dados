{
  "cells": [
    {
      "cell_type": "markdown",
      "metadata": {
        "id": "view-in-github",
        "colab_type": "text"
      },
      "source": [
        "<a href=\"https://colab.research.google.com/github/rodrigoclira/mineracao-dados/blob/main/methods_for_dealing_with_imbalanced_data.ipynb\" target=\"_parent\"><img src=\"https://colab.research.google.com/assets/colab-badge.svg\" alt=\"Open In Colab\"/></a>"
      ]
    },
    {
      "cell_type": "markdown",
      "metadata": {
        "_uuid": "3c8c5c5f2f6bc7ab03bb842ddffdfb34ea87607c",
        "id": "3u1MH9_flCtR"
      },
      "source": [
        "# Métodos para lidar com dados desbalanceados\n",
        "\n",
        "Classes desequilibradas são um problema comum na classificação de aprendizado de máquina, onde há uma proporção desproporcional de observações em cada classe. O desequilíbrio de classe pode ser encontrado em muitas áreas diferentes, incluindo diagnóstico médico, filtragem de spam e detecção de fraude.\n",
        "\n",
        "Neste guia, veremos cinco maneiras possíveis de lidar com um problema de classe desequilibrada usando dados de cartão de crédito. Nosso objetivo será classificar corretamente a classe minoritária de transações fraudulentas.\n",
        "\n",
        "Nota importante:\n",
        "Este guia se concentrará apenas no tratamento de classes desequilibradas e não abordará outras etapas importantes de aprendizado de máquina, incluindo, mas não se limitando a, seleção de recursos ou ajuste de hiperparâmetros.\n",
        "\n",
        "Dataset utilizado (baixe-o e importe no painel lateral)\n",
        "https://drive.google.com/file/d/1NP3ba6weG66mF7wl56bT5UVTSdmQ-hlg/view"
      ]
    },
    {
      "cell_type": "code",
      "execution_count": 1,
      "metadata": {
        "_cell_guid": "b1076dfc-b9ad-4769-8c92-a6c4dae69d19",
        "_uuid": "8f2839f25d086af736a60e9eeb907d3b93b6e0e5",
        "id": "EHtQ4RbKlCtW"
      },
      "outputs": [],
      "source": [
        "import numpy as np\n",
        "import pandas as pd\n",
        "import matplotlib.pyplot as plt\n",
        "import seaborn as sns\n",
        "\n",
        "from sklearn.model_selection import train_test_split\n",
        "from sklearn.linear_model import LogisticRegression\n",
        "from sklearn.dummy import DummyClassifier\n",
        "from sklearn.metrics import accuracy_score, f1_score, confusion_matrix, recall_score"
      ]
    },
    {
      "cell_type": "code",
      "execution_count": 2,
      "metadata": {
        "_uuid": "9c68ba8512d7c66d58927843c103d467e18597a1",
        "id": "Vr4c2LXXlCtY"
      },
      "outputs": [],
      "source": [
        "# configurando parâmetros de plotagem padrão\n",
        "%matplotlib inline\n",
        "\n",
        "plt.rcParams['figure.figsize'] = [20.0, 7.0]\n",
        "plt.rcParams.update({'font.size': 22,})\n",
        "\n",
        "sns.set_palette('viridis')\n",
        "sns.set_style('white')\n",
        "sns.set_context('talk', font_scale=0.8)"
      ]
    },
    {
      "cell_type": "code",
      "source": [
        "!unzip creditcard.zip #certifique que o arquivo credicard.zip foi upado no painel lateral"
      ],
      "metadata": {
        "colab": {
          "base_uri": "https://localhost:8080/"
        },
        "id": "FBQsV11nq45P",
        "outputId": "177bb5e0-6959-4f82-b8cf-ff91fcfd5735"
      },
      "execution_count": 4,
      "outputs": [
        {
          "output_type": "stream",
          "name": "stdout",
          "text": [
            "Archive:  creditcard.zip\n",
            "  inflating: creditcard.csv          \n"
          ]
        }
      ]
    },
    {
      "cell_type": "code",
      "execution_count": 7,
      "metadata": {
        "_cell_guid": "79c7e3d0-c299-4dcb-8224-4455121ee9b0",
        "_uuid": "d629ff2d2480ee46fbb7e2d37f6b5fab8052498a",
        "colab": {
          "base_uri": "https://localhost:8080/",
          "height": 317
        },
        "id": "PlLyqI1ClCtY",
        "outputId": "c4df5f85-38b6-445b-edb4-2c87f7109cd2"
      },
      "outputs": [
        {
          "output_type": "stream",
          "name": "stdout",
          "text": [
            "(284807, 31)\n"
          ]
        },
        {
          "output_type": "execute_result",
          "data": {
            "text/plain": [
              "   Time        V1        V2        V3        V4        V5        V6        V7  \\\n",
              "0   0.0 -1.359807 -0.072781  2.536347  1.378155 -0.338321  0.462388  0.239599   \n",
              "1   0.0  1.191857  0.266151  0.166480  0.448154  0.060018 -0.082361 -0.078803   \n",
              "2   1.0 -1.358354 -1.340163  1.773209  0.379780 -0.503198  1.800499  0.791461   \n",
              "3   1.0 -0.966272 -0.185226  1.792993 -0.863291 -0.010309  1.247203  0.237609   \n",
              "4   2.0 -1.158233  0.877737  1.548718  0.403034 -0.407193  0.095921  0.592941   \n",
              "\n",
              "         V8        V9  ...       V21       V22       V23       V24       V25  \\\n",
              "0  0.098698  0.363787  ... -0.018307  0.277838 -0.110474  0.066928  0.128539   \n",
              "1  0.085102 -0.255425  ... -0.225775 -0.638672  0.101288 -0.339846  0.167170   \n",
              "2  0.247676 -1.514654  ...  0.247998  0.771679  0.909412 -0.689281 -0.327642   \n",
              "3  0.377436 -1.387024  ... -0.108300  0.005274 -0.190321 -1.175575  0.647376   \n",
              "4 -0.270533  0.817739  ... -0.009431  0.798278 -0.137458  0.141267 -0.206010   \n",
              "\n",
              "        V26       V27       V28  Amount  Class  \n",
              "0 -0.189115  0.133558 -0.021053  149.62      0  \n",
              "1  0.125895 -0.008983  0.014724    2.69      0  \n",
              "2 -0.139097 -0.055353 -0.059752  378.66      0  \n",
              "3 -0.221929  0.062723  0.061458  123.50      0  \n",
              "4  0.502292  0.219422  0.215153   69.99      0  \n",
              "\n",
              "[5 rows x 31 columns]"
            ],
            "text/html": [
              "\n",
              "  <div id=\"df-27fb9f49-1b2a-411b-aa9b-58d05c7cb57f\">\n",
              "    <div class=\"colab-df-container\">\n",
              "      <div>\n",
              "<style scoped>\n",
              "    .dataframe tbody tr th:only-of-type {\n",
              "        vertical-align: middle;\n",
              "    }\n",
              "\n",
              "    .dataframe tbody tr th {\n",
              "        vertical-align: top;\n",
              "    }\n",
              "\n",
              "    .dataframe thead th {\n",
              "        text-align: right;\n",
              "    }\n",
              "</style>\n",
              "<table border=\"1\" class=\"dataframe\">\n",
              "  <thead>\n",
              "    <tr style=\"text-align: right;\">\n",
              "      <th></th>\n",
              "      <th>Time</th>\n",
              "      <th>V1</th>\n",
              "      <th>V2</th>\n",
              "      <th>V3</th>\n",
              "      <th>V4</th>\n",
              "      <th>V5</th>\n",
              "      <th>V6</th>\n",
              "      <th>V7</th>\n",
              "      <th>V8</th>\n",
              "      <th>V9</th>\n",
              "      <th>...</th>\n",
              "      <th>V21</th>\n",
              "      <th>V22</th>\n",
              "      <th>V23</th>\n",
              "      <th>V24</th>\n",
              "      <th>V25</th>\n",
              "      <th>V26</th>\n",
              "      <th>V27</th>\n",
              "      <th>V28</th>\n",
              "      <th>Amount</th>\n",
              "      <th>Class</th>\n",
              "    </tr>\n",
              "  </thead>\n",
              "  <tbody>\n",
              "    <tr>\n",
              "      <th>0</th>\n",
              "      <td>0.0</td>\n",
              "      <td>-1.359807</td>\n",
              "      <td>-0.072781</td>\n",
              "      <td>2.536347</td>\n",
              "      <td>1.378155</td>\n",
              "      <td>-0.338321</td>\n",
              "      <td>0.462388</td>\n",
              "      <td>0.239599</td>\n",
              "      <td>0.098698</td>\n",
              "      <td>0.363787</td>\n",
              "      <td>...</td>\n",
              "      <td>-0.018307</td>\n",
              "      <td>0.277838</td>\n",
              "      <td>-0.110474</td>\n",
              "      <td>0.066928</td>\n",
              "      <td>0.128539</td>\n",
              "      <td>-0.189115</td>\n",
              "      <td>0.133558</td>\n",
              "      <td>-0.021053</td>\n",
              "      <td>149.62</td>\n",
              "      <td>0</td>\n",
              "    </tr>\n",
              "    <tr>\n",
              "      <th>1</th>\n",
              "      <td>0.0</td>\n",
              "      <td>1.191857</td>\n",
              "      <td>0.266151</td>\n",
              "      <td>0.166480</td>\n",
              "      <td>0.448154</td>\n",
              "      <td>0.060018</td>\n",
              "      <td>-0.082361</td>\n",
              "      <td>-0.078803</td>\n",
              "      <td>0.085102</td>\n",
              "      <td>-0.255425</td>\n",
              "      <td>...</td>\n",
              "      <td>-0.225775</td>\n",
              "      <td>-0.638672</td>\n",
              "      <td>0.101288</td>\n",
              "      <td>-0.339846</td>\n",
              "      <td>0.167170</td>\n",
              "      <td>0.125895</td>\n",
              "      <td>-0.008983</td>\n",
              "      <td>0.014724</td>\n",
              "      <td>2.69</td>\n",
              "      <td>0</td>\n",
              "    </tr>\n",
              "    <tr>\n",
              "      <th>2</th>\n",
              "      <td>1.0</td>\n",
              "      <td>-1.358354</td>\n",
              "      <td>-1.340163</td>\n",
              "      <td>1.773209</td>\n",
              "      <td>0.379780</td>\n",
              "      <td>-0.503198</td>\n",
              "      <td>1.800499</td>\n",
              "      <td>0.791461</td>\n",
              "      <td>0.247676</td>\n",
              "      <td>-1.514654</td>\n",
              "      <td>...</td>\n",
              "      <td>0.247998</td>\n",
              "      <td>0.771679</td>\n",
              "      <td>0.909412</td>\n",
              "      <td>-0.689281</td>\n",
              "      <td>-0.327642</td>\n",
              "      <td>-0.139097</td>\n",
              "      <td>-0.055353</td>\n",
              "      <td>-0.059752</td>\n",
              "      <td>378.66</td>\n",
              "      <td>0</td>\n",
              "    </tr>\n",
              "    <tr>\n",
              "      <th>3</th>\n",
              "      <td>1.0</td>\n",
              "      <td>-0.966272</td>\n",
              "      <td>-0.185226</td>\n",
              "      <td>1.792993</td>\n",
              "      <td>-0.863291</td>\n",
              "      <td>-0.010309</td>\n",
              "      <td>1.247203</td>\n",
              "      <td>0.237609</td>\n",
              "      <td>0.377436</td>\n",
              "      <td>-1.387024</td>\n",
              "      <td>...</td>\n",
              "      <td>-0.108300</td>\n",
              "      <td>0.005274</td>\n",
              "      <td>-0.190321</td>\n",
              "      <td>-1.175575</td>\n",
              "      <td>0.647376</td>\n",
              "      <td>-0.221929</td>\n",
              "      <td>0.062723</td>\n",
              "      <td>0.061458</td>\n",
              "      <td>123.50</td>\n",
              "      <td>0</td>\n",
              "    </tr>\n",
              "    <tr>\n",
              "      <th>4</th>\n",
              "      <td>2.0</td>\n",
              "      <td>-1.158233</td>\n",
              "      <td>0.877737</td>\n",
              "      <td>1.548718</td>\n",
              "      <td>0.403034</td>\n",
              "      <td>-0.407193</td>\n",
              "      <td>0.095921</td>\n",
              "      <td>0.592941</td>\n",
              "      <td>-0.270533</td>\n",
              "      <td>0.817739</td>\n",
              "      <td>...</td>\n",
              "      <td>-0.009431</td>\n",
              "      <td>0.798278</td>\n",
              "      <td>-0.137458</td>\n",
              "      <td>0.141267</td>\n",
              "      <td>-0.206010</td>\n",
              "      <td>0.502292</td>\n",
              "      <td>0.219422</td>\n",
              "      <td>0.215153</td>\n",
              "      <td>69.99</td>\n",
              "      <td>0</td>\n",
              "    </tr>\n",
              "  </tbody>\n",
              "</table>\n",
              "<p>5 rows × 31 columns</p>\n",
              "</div>\n",
              "      <button class=\"colab-df-convert\" onclick=\"convertToInteractive('df-27fb9f49-1b2a-411b-aa9b-58d05c7cb57f')\"\n",
              "              title=\"Convert this dataframe to an interactive table.\"\n",
              "              style=\"display:none;\">\n",
              "        \n",
              "  <svg xmlns=\"http://www.w3.org/2000/svg\" height=\"24px\"viewBox=\"0 0 24 24\"\n",
              "       width=\"24px\">\n",
              "    <path d=\"M0 0h24v24H0V0z\" fill=\"none\"/>\n",
              "    <path d=\"M18.56 5.44l.94 2.06.94-2.06 2.06-.94-2.06-.94-.94-2.06-.94 2.06-2.06.94zm-11 1L8.5 8.5l.94-2.06 2.06-.94-2.06-.94L8.5 2.5l-.94 2.06-2.06.94zm10 10l.94 2.06.94-2.06 2.06-.94-2.06-.94-.94-2.06-.94 2.06-2.06.94z\"/><path d=\"M17.41 7.96l-1.37-1.37c-.4-.4-.92-.59-1.43-.59-.52 0-1.04.2-1.43.59L10.3 9.45l-7.72 7.72c-.78.78-.78 2.05 0 2.83L4 21.41c.39.39.9.59 1.41.59.51 0 1.02-.2 1.41-.59l7.78-7.78 2.81-2.81c.8-.78.8-2.07 0-2.86zM5.41 20L4 18.59l7.72-7.72 1.47 1.35L5.41 20z\"/>\n",
              "  </svg>\n",
              "      </button>\n",
              "      \n",
              "  <style>\n",
              "    .colab-df-container {\n",
              "      display:flex;\n",
              "      flex-wrap:wrap;\n",
              "      gap: 12px;\n",
              "    }\n",
              "\n",
              "    .colab-df-convert {\n",
              "      background-color: #E8F0FE;\n",
              "      border: none;\n",
              "      border-radius: 50%;\n",
              "      cursor: pointer;\n",
              "      display: none;\n",
              "      fill: #1967D2;\n",
              "      height: 32px;\n",
              "      padding: 0 0 0 0;\n",
              "      width: 32px;\n",
              "    }\n",
              "\n",
              "    .colab-df-convert:hover {\n",
              "      background-color: #E2EBFA;\n",
              "      box-shadow: 0px 1px 2px rgba(60, 64, 67, 0.3), 0px 1px 3px 1px rgba(60, 64, 67, 0.15);\n",
              "      fill: #174EA6;\n",
              "    }\n",
              "\n",
              "    [theme=dark] .colab-df-convert {\n",
              "      background-color: #3B4455;\n",
              "      fill: #D2E3FC;\n",
              "    }\n",
              "\n",
              "    [theme=dark] .colab-df-convert:hover {\n",
              "      background-color: #434B5C;\n",
              "      box-shadow: 0px 1px 3px 1px rgba(0, 0, 0, 0.15);\n",
              "      filter: drop-shadow(0px 1px 2px rgba(0, 0, 0, 0.3));\n",
              "      fill: #FFFFFF;\n",
              "    }\n",
              "  </style>\n",
              "\n",
              "      <script>\n",
              "        const buttonEl =\n",
              "          document.querySelector('#df-27fb9f49-1b2a-411b-aa9b-58d05c7cb57f button.colab-df-convert');\n",
              "        buttonEl.style.display =\n",
              "          google.colab.kernel.accessAllowed ? 'block' : 'none';\n",
              "\n",
              "        async function convertToInteractive(key) {\n",
              "          const element = document.querySelector('#df-27fb9f49-1b2a-411b-aa9b-58d05c7cb57f');\n",
              "          const dataTable =\n",
              "            await google.colab.kernel.invokeFunction('convertToInteractive',\n",
              "                                                     [key], {});\n",
              "          if (!dataTable) return;\n",
              "\n",
              "          const docLinkHtml = 'Like what you see? Visit the ' +\n",
              "            '<a target=\"_blank\" href=https://colab.research.google.com/notebooks/data_table.ipynb>data table notebook</a>'\n",
              "            + ' to learn more about interactive tables.';\n",
              "          element.innerHTML = '';\n",
              "          dataTable['output_type'] = 'display_data';\n",
              "          await google.colab.output.renderOutput(dataTable, element);\n",
              "          const docLink = document.createElement('div');\n",
              "          docLink.innerHTML = docLinkHtml;\n",
              "          element.appendChild(docLink);\n",
              "        }\n",
              "      </script>\n",
              "    </div>\n",
              "  </div>\n",
              "  "
            ]
          },
          "metadata": {},
          "execution_count": 7
        }
      ],
      "source": [
        "# read in data\n",
        "df = pd.read_csv('creditcard.csv')\n",
        "\n",
        "print(df.shape)\n",
        "df.head()"
      ]
    },
    {
      "cell_type": "code",
      "execution_count": 8,
      "metadata": {
        "_uuid": "c7d92ecec94ee2633bd378b3d55100c6b9362636",
        "colab": {
          "base_uri": "https://localhost:8080/"
        },
        "id": "M25OA5qnlCtZ",
        "outputId": "e805bcb1-3ef5-4fe9-c48e-08bb0bd19df1"
      },
      "outputs": [
        {
          "output_type": "stream",
          "name": "stdout",
          "text": [
            "0    284315\n",
            "1       492\n",
            "Name: Class, dtype: int64\n"
          ]
        }
      ],
      "source": [
        "print(df.Class.value_counts())"
      ]
    },
    {
      "cell_type": "code",
      "execution_count": 9,
      "metadata": {
        "_uuid": "00001b711204cdcfe0a91021db7197bb81e1b6b0",
        "colab": {
          "base_uri": "https://localhost:8080/",
          "height": 517
        },
        "id": "aZeccs0elCta",
        "outputId": "94aa7a13-28a0-436d-fac3-bc0b29a21fe8"
      },
      "outputs": [
        {
          "output_type": "stream",
          "name": "stderr",
          "text": [
            "/usr/local/lib/python3.7/dist-packages/seaborn/_decorators.py:43: FutureWarning: Pass the following variable as a keyword arg: x. From version 0.12, the only valid positional argument will be `data`, and passing other arguments without an explicit keyword will result in an error or misinterpretation.\n",
            "  FutureWarning\n"
          ]
        },
        {
          "output_type": "display_data",
          "data": {
            "text/plain": [
              "<Figure size 1440x504 with 1 Axes>"
            ],
            "image/png": "[encoded data removed]"
          },
          "metadata": {}
        }
      ],
      "source": [
        "# usando seaborn countplot para mostrar a distribuição de perguntas no conjunto de dados\n",
        "fig, ax = plt.subplots()\n",
        "g = sns.countplot(df.Class, palette='viridis')\n",
        "g.set_xticklabels(['Não Fraude', 'Fraude'])\n",
        "g.set_yticklabels([])\n",
        "\n",
        "# Função para mostrar valores no gráfico de barra\n",
        "def show_values_on_bars(axs):\n",
        "    def _show_on_single_plot(ax):        \n",
        "        for p in ax.patches:\n",
        "            _x = p.get_x() + p.get_width() / 2\n",
        "            _y = p.get_y() + p.get_height()\n",
        "            value = '{:.0f}'.format(p.get_height())\n",
        "            ax.text(_x, _y, value, ha=\"center\") \n",
        "\n",
        "    if isinstance(axs, np.ndarray):\n",
        "        for idx, ax in np.ndenumerate(axs):\n",
        "            _show_on_single_plot(ax)\n",
        "    else:\n",
        "        _show_on_single_plot(axs)\n",
        "show_values_on_bars(ax)\n",
        "\n",
        "sns.despine(left=True, bottom=True)\n",
        "plt.xlabel('')\n",
        "plt.ylabel('')\n",
        "plt.title('Distribuição de transações', fontsize=30)\n",
        "plt.tick_params(axis='x', which='major', labelsize=15)\n",
        "plt.show()"
      ]
    },
    {
      "cell_type": "code",
      "execution_count": 10,
      "metadata": {
        "_uuid": "a22d03aa7bf5b358cfbc7ca946f3367b98e9faa2",
        "colab": {
          "base_uri": "https://localhost:8080/"
        },
        "id": "YYXziNcDlCtb",
        "outputId": "f7ca92dc-45a4-4933-f535-92e9cd87e837"
      },
      "outputs": [
        {
          "output_type": "execute_result",
          "data": {
            "text/plain": [
              "0.17304750013189596"
            ]
          },
          "metadata": {},
          "execution_count": 10
        }
      ],
      "source": [
        "# print percentage of questions where target == 1\n",
        "(len(df.loc[df.Class==1])) / (len(df.loc[df.Class == 0])) * 100"
      ]
    },
    {
      "cell_type": "markdown",
      "metadata": {
        "_uuid": "460b8fbc891a865d755de263e832474d22718577",
        "id": "aFnBur9ClCtc"
      },
      "source": [
        "A partir do gráfico acima, podemos ver que temos uma classe muito desequilibrada - apenas 0,17% do nosso conjunto de dados pertence à classe alvo!\n",
        "\n",
        "Isso é um problema porque muitos modelos de aprendizado de máquina são projetados para maximizar a precisão geral, o que especialmente com classes desequilibradas pode não ser a melhor métrica a ser usada. A precisão da classificação é definida como o número de previsões corretas dividido pelo total de previsões vezes 100. Por exemplo, se simplesmente previssemos que todas as transações não são fraude, obteríamos uma pontuação de precisão de classificação superior a 99%!\n",
        "\n",
        "### Criar conjuntos de treinamento e teste\n",
        "\n",
        "O conjunto de treinamento é usado para construir e validar o modelo, enquanto o conjunto de teste é reservado para testar o modelo em dados não vistos."
      ]
    },
    {
      "cell_type": "code",
      "execution_count": 12,
      "metadata": {
        "_uuid": "876d7f98c708ae91ce22f728d63abdbb1c573fac",
        "id": "Tonj6EB6lCtc"
      },
      "outputs": [],
      "source": [
        "# Preparar dados para modelagem\n",
        "# entrada e 'alvo' separados\n",
        "y = df.Class\n",
        "X = df.drop('Class', axis=1)\n",
        "\n",
        "# configurar conjuntos de teste e treinamento\n",
        "X_train, X_test, y_train, y_test = train_test_split(X, y, test_size=0.25, random_state=27)"
      ]
    },
    {
      "cell_type": "markdown",
      "metadata": {
        "_uuid": "f5b635aecad2e3a59eee638e62194f02855f4f8f",
        "id": "0u7qSFOmlCtd"
      },
      "source": [
        "## Modelos Base"
      ]
    },
    {
      "cell_type": "code",
      "execution_count": 13,
      "metadata": {
        "_uuid": "537af7e533e55efc91ecda7a6f80b4c88bac39a1",
        "colab": {
          "base_uri": "https://localhost:8080/"
        },
        "id": "u5MfOB1qlCtd",
        "outputId": "e052c00e-71aa-4a47-cad3-4f499c2c1dee"
      },
      "outputs": [
        {
          "output_type": "stream",
          "name": "stdout",
          "text": [
            "Rótulos previstos exclusivos:  [0]\n",
            "Score de teste:  0.9981461194910255\n"
          ]
        }
      ],
      "source": [
        "# DummyClassifier para prever apenas o alvo 0\n",
        "dummy = DummyClassifier(strategy='most_frequent').fit(X_train, y_train)\n",
        "dummy_pred = dummy.predict(X_test)\n",
        "\n",
        "# verificando rótulos exclusivos\n",
        "print('Rótulos previstos exclusivos: ', (np.unique(dummy_pred)))\n",
        "\n",
        "# verificando a precisão\n",
        "print('Score de teste: ', accuracy_score(y_test, dummy_pred))"
      ]
    },
    {
      "cell_type": "markdown",
      "metadata": {
        "_uuid": "4b3d37e60424e9bc6a0ffdf36bc667a7489ce186",
        "id": "b7L_tZMylCte"
      },
      "source": [
        "Conforme previsto, nossa pontuação de precisão para classificar todas as transações como não fraude é de 99,8%!\n",
        "\n",
        "Como o Classificador Dummy prevê apenas a Classe 0, claramente não é uma boa opção para nosso objetivo de classificar corretamente as transações fraudulentas.\n",
        "\n",
        "Vamos ver como a regressão logística se comporta nesse conjunto de dados."
      ]
    },
    {
      "cell_type": "code",
      "execution_count": 14,
      "metadata": {
        "_uuid": "3326dfa795f14d1f4357881c3dde02f84b5574dd",
        "id": "wBPsZdJVlCte"
      },
      "outputs": [],
      "source": [
        "# Modelando os dados como estão\n",
        "# Treinando modelo\n",
        "lr = LogisticRegression(solver='liblinear').fit(X_train, y_train)\n",
        " \n",
        "# Prevendo no conjunto de teste\n",
        "lr_pred = lr.predict(X_test)"
      ]
    },
    {
      "cell_type": "code",
      "execution_count": 15,
      "metadata": {
        "_uuid": "df5a5a9588b0d0ee1d9b80e94d1c63885718976d",
        "colab": {
          "base_uri": "https://localhost:8080/"
        },
        "id": "64e7HiomlCtf",
        "outputId": "dc148b4a-ca83-436f-99ea-0ac6f3df7263"
      },
      "outputs": [
        {
          "output_type": "execute_result",
          "data": {
            "text/plain": [
              "0.9992135052386169"
            ]
          },
          "metadata": {},
          "execution_count": 15
        }
      ],
      "source": [
        "# Checando Acurácia\n",
        "accuracy_score(y_test, lr_pred)"
      ]
    },
    {
      "cell_type": "code",
      "execution_count": 16,
      "metadata": {
        "_uuid": "64afcae23af7b0903f10fa0d2992de3a137e2c10",
        "colab": {
          "base_uri": "https://localhost:8080/"
        },
        "id": "CK8zTbCwlCtf",
        "outputId": "161bced9-1161-4c6c-ec4d-7878f46911e1"
      },
      "outputs": [
        {
          "output_type": "execute_result",
          "data": {
            "text/plain": [
              "0    71108\n",
              "1       94\n",
              "Name: 0, dtype: int64"
            ]
          },
          "metadata": {},
          "execution_count": 16
        }
      ],
      "source": [
        "# Verificando valores únicos\n",
        "predictions = pd.DataFrame(lr_pred)\n",
        "predictions[0].value_counts()"
      ]
    },
    {
      "cell_type": "markdown",
      "metadata": {
        "_uuid": "f50e9de7d0b21afebbdf41c36e30a3dd7e4204e0",
        "id": "XDVbjMgLlCtf"
      },
      "source": [
        "A regressão logística superou o classificador fictício! Podemos ver que ele previu 94 instâncias da classe 1, então isso é definitivamente uma melhoria. Mas podemos fazer melhor?\n",
        "\n",
        "Vamos ver se podemos aplicar algumas técnicas para lidar com o desequilíbrio de classes para melhorar esses resultados.\n",
        "\n",
        "## 1.  Alterar a métrica de desempenho\n",
        "\n",
        "A precisão não é a melhor métrica a ser usada ao avaliar conjuntos de dados desequilibrados, pois pode ser enganosa. As métricas que podem fornecer melhores insights incluem:\n",
        " - **Confusion Matrix:**  uma tabela mostrando previsões corretas e tipos de previsões incorretas.\n",
        " - **Precision: **  o número de verdadeiros positivos dividido por todas as previsões positivas. A precisão também é chamada de Valor Preditivo Positivo. É uma medida da exatidão de um classificador. Baixa precisão indica um alto número de falsos positivos.\n",
        " - **Recall:**  o número de verdadeiros positivos dividido pelo número de valores positivos nos dados de teste. O recall também é chamado de Sensibilidade ou Taxa de Verdadeiro Positivo. É uma medida da completude de um classificador. Baixo recall indica um alto número de falsos negativos.\n",
        " - **F1: Score:** a média ponderada de precisão e recall.\n",
        " \n",
        "Como nosso principal objetivo com o conjunto de dados é priorizar a classificação precisa dos casos de fraude, a pontuação de recall pode ser considerada nossa principal métrica a ser usada para avaliar os resultados."
      ]
    },
    {
      "cell_type": "code",
      "execution_count": null,
      "metadata": {
        "_uuid": "eccc36a7bfcea78426978634b710cc0133a38806",
        "id": "qTzddQDglCtg"
      },
      "outputs": [],
      "source": [
        "# f1 score\n",
        "f1_score(y_test, lr_pred)"
      ]
    },
    {
      "cell_type": "code",
      "execution_count": null,
      "metadata": {
        "_uuid": "e45f328fd05fff579301f2f060d6e8412b0c50c2",
        "id": "alw2sTRRlCtg"
      },
      "outputs": [],
      "source": [
        "# Matriz de confusão\n",
        "pd.DataFrame(confusion_matrix(y_test, lr_pred))"
      ]
    },
    {
      "cell_type": "code",
      "execution_count": null,
      "metadata": {
        "_uuid": "0e1e8e7a188457a84e07f11f1789d7b864b5bef8",
        "id": "1vfnShihlCtg"
      },
      "outputs": [],
      "source": [
        "recall_score(y_test, lr_pred)"
      ]
    },
    {
      "cell_type": "markdown",
      "metadata": {
        "_uuid": "dffefb9a7656b70369b1392747345f1b7c5ad830",
        "collapsed": true,
        "id": "pTCFLsI6lCth"
      },
      "source": [
        "Temos uma pontuação de precisão muito alta de 0,999, mas uma pontuação F1 de apenas 0,752. E a partir da matriz de confusão, podemos ver que estamos classificando incorretamente várias observações levando a uma pontuação de recordação de apenas 0,64.\n",
        "\n",
        "## 2. Mude o algoritmo\n",
        "\n",
        "Embora em todos os problemas de aprendizado de máquina seja uma boa regra geral tentar uma variedade de algoritmos, pode ser especialmente benéfico com conjuntos de dados desequilibrados. As árvores de decisão geralmente têm bom desempenho em dados desequilibrados. Eles trabalham aprendendo uma hierarquia de perguntas if/else. Isso pode forçar ambas as classes a serem endereçadas.\n"
      ]
    },
    {
      "cell_type": "code",
      "execution_count": 20,
      "metadata": {
        "_uuid": "aa114a52def766752d99bdbb8798926b08bfa7c0",
        "id": "CKJWP_lZlCth"
      },
      "outputs": [],
      "source": [
        "from sklearn.ensemble import RandomForestClassifier"
      ]
    },
    {
      "cell_type": "code",
      "execution_count": 21,
      "metadata": {
        "_uuid": "f12b26ae5dd82aac3a909dba0346055d0e9162b1",
        "colab": {
          "base_uri": "https://localhost:8080/"
        },
        "id": "v1qf7J-WlCth",
        "outputId": "89d412a3-f404-45a0-d388-405886be904f"
      },
      "outputs": [
        {
          "output_type": "execute_result",
          "data": {
            "text/plain": [
              "0.999592708069998"
            ]
          },
          "metadata": {},
          "execution_count": 21
        }
      ],
      "source": [
        "# treinando modelo\n",
        "rfc = RandomForestClassifier(n_estimators=10).fit(X_train, y_train)\n",
        "\n",
        "# prevendo no conjunto de teste\n",
        "rfc_pred = rfc.predict(X_test)\n",
        "\n",
        "accuracy_score(y_test, rfc_pred)"
      ]
    },
    {
      "cell_type": "code",
      "execution_count": 22,
      "metadata": {
        "_uuid": "88a80554fe0898f9a7b4a129e72bd08e3a2b0e23",
        "colab": {
          "base_uri": "https://localhost:8080/"
        },
        "id": "PmJ5jYZ_lCti",
        "outputId": "706b4a63-2da9-4f1d-a4b6-8c2fb5433693"
      },
      "outputs": [
        {
          "output_type": "execute_result",
          "data": {
            "text/plain": [
              "0.8786610878661087"
            ]
          },
          "metadata": {},
          "execution_count": 22
        }
      ],
      "source": [
        "# f1 score\n",
        "f1_score(y_test, rfc_pred)"
      ]
    },
    {
      "cell_type": "code",
      "execution_count": 23,
      "metadata": {
        "_uuid": "48bbc426053a07d88363c8207254b8c60cd97fdf",
        "colab": {
          "base_uri": "https://localhost:8080/",
          "height": 112
        },
        "id": "G89Xp-iulCti",
        "outputId": "7cc16517-edd2-441a-fb55-6e09a4295ef8"
      },
      "outputs": [
        {
          "output_type": "execute_result",
          "data": {
            "text/plain": [
              "       0    1\n",
              "0  71068    2\n",
              "1     27  105"
            ],
            "text/html": [
              "\n",
              "  <div id=\"df-b93eb10d-eb23-4ac0-84f9-6ae621259059\">\n",
              "    <div class=\"colab-df-container\">\n",
              "      <div>\n",
              "<style scoped>\n",
              "    .dataframe tbody tr th:only-of-type {\n",
              "        vertical-align: middle;\n",
              "    }\n",
              "\n",
              "    .dataframe tbody tr th {\n",
              "        vertical-align: top;\n",
              "    }\n",
              "\n",
              "    .dataframe thead th {\n",
              "        text-align: right;\n",
              "    }\n",
              "</style>\n",
              "<table border=\"1\" class=\"dataframe\">\n",
              "  <thead>\n",
              "    <tr style=\"text-align: right;\">\n",
              "      <th></th>\n",
              "      <th>0</th>\n",
              "      <th>1</th>\n",
              "    </tr>\n",
              "  </thead>\n",
              "  <tbody>\n",
              "    <tr>\n",
              "      <th>0</th>\n",
              "      <td>71068</td>\n",
              "      <td>2</td>\n",
              "    </tr>\n",
              "    <tr>\n",
              "      <th>1</th>\n",
              "      <td>27</td>\n",
              "      <td>105</td>\n",
              "    </tr>\n",
              "  </tbody>\n",
              "</table>\n",
              "</div>\n",
              "      <button class=\"colab-df-convert\" onclick=\"convertToInteractive('df-b93eb10d-eb23-4ac0-84f9-6ae621259059')\"\n",
              "              title=\"Convert this dataframe to an interactive table.\"\n",
              "              style=\"display:none;\">\n",
              "        \n",
              "  <svg xmlns=\"http://www.w3.org/2000/svg\" height=\"24px\"viewBox=\"0 0 24 24\"\n",
              "       width=\"24px\">\n",
              "    <path d=\"M0 0h24v24H0V0z\" fill=\"none\"/>\n",
              "    <path d=\"M18.56 5.44l.94 2.06.94-2.06 2.06-.94-2.06-.94-.94-2.06-.94 2.06-2.06.94zm-11 1L8.5 8.5l.94-2.06 2.06-.94-2.06-.94L8.5 2.5l-.94 2.06-2.06.94zm10 10l.94 2.06.94-2.06 2.06-.94-2.06-.94-.94-2.06-.94 2.06-2.06.94z\"/><path d=\"M17.41 7.96l-1.37-1.37c-.4-.4-.92-.59-1.43-.59-.52 0-1.04.2-1.43.59L10.3 9.45l-7.72 7.72c-.78.78-.78 2.05 0 2.83L4 21.41c.39.39.9.59 1.41.59.51 0 1.02-.2 1.41-.59l7.78-7.78 2.81-2.81c.8-.78.8-2.07 0-2.86zM5.41 20L4 18.59l7.72-7.72 1.47 1.35L5.41 20z\"/>\n",
              "  </svg>\n",
              "      </button>\n",
              "      \n",
              "  <style>\n",
              "    .colab-df-container {\n",
              "      display:flex;\n",
              "      flex-wrap:wrap;\n",
              "      gap: 12px;\n",
              "    }\n",
              "\n",
              "    .colab-df-convert {\n",
              "      background-color: #E8F0FE;\n",
              "      border: none;\n",
              "      border-radius: 50%;\n",
              "      cursor: pointer;\n",
              "      display: none;\n",
              "      fill: #1967D2;\n",
              "      height: 32px;\n",
              "      padding: 0 0 0 0;\n",
              "      width: 32px;\n",
              "    }\n",
              "\n",
              "    .colab-df-convert:hover {\n",
              "      background-color: #E2EBFA;\n",
              "      box-shadow: 0px 1px 2px rgba(60, 64, 67, 0.3), 0px 1px 3px 1px rgba(60, 64, 67, 0.15);\n",
              "      fill: #174EA6;\n",
              "    }\n",
              "\n",
              "    [theme=dark] .colab-df-convert {\n",
              "      background-color: #3B4455;\n",
              "      fill: #D2E3FC;\n",
              "    }\n",
              "\n",
              "    [theme=dark] .colab-df-convert:hover {\n",
              "      background-color: #434B5C;\n",
              "      box-shadow: 0px 1px 3px 1px rgba(0, 0, 0, 0.15);\n",
              "      filter: drop-shadow(0px 1px 2px rgba(0, 0, 0, 0.3));\n",
              "      fill: #FFFFFF;\n",
              "    }\n",
              "  </style>\n",
              "\n",
              "      <script>\n",
              "        const buttonEl =\n",
              "          document.querySelector('#df-b93eb10d-eb23-4ac0-84f9-6ae621259059 button.colab-df-convert');\n",
              "        buttonEl.style.display =\n",
              "          google.colab.kernel.accessAllowed ? 'block' : 'none';\n",
              "\n",
              "        async function convertToInteractive(key) {\n",
              "          const element = document.querySelector('#df-b93eb10d-eb23-4ac0-84f9-6ae621259059');\n",
              "          const dataTable =\n",
              "            await google.colab.kernel.invokeFunction('convertToInteractive',\n",
              "                                                     [key], {});\n",
              "          if (!dataTable) return;\n",
              "\n",
              "          const docLinkHtml = 'Like what you see? Visit the ' +\n",
              "            '<a target=\"_blank\" href=https://colab.research.google.com/notebooks/data_table.ipynb>data table notebook</a>'\n",
              "            + ' to learn more about interactive tables.';\n",
              "          element.innerHTML = '';\n",
              "          dataTable['output_type'] = 'display_data';\n",
              "          await google.colab.output.renderOutput(dataTable, element);\n",
              "          const docLink = document.createElement('div');\n",
              "          docLink.innerHTML = docLinkHtml;\n",
              "          element.appendChild(docLink);\n",
              "        }\n",
              "      </script>\n",
              "    </div>\n",
              "  </div>\n",
              "  "
            ]
          },
          "metadata": {},
          "execution_count": 23
        }
      ],
      "source": [
        "# Matriz de Confusão\n",
        "pd.DataFrame(confusion_matrix(y_test, rfc_pred))"
      ]
    },
    {
      "cell_type": "code",
      "execution_count": 24,
      "metadata": {
        "_uuid": "0d2fe2f258a7f3a2db17b963b76116f00fa5c1f1",
        "colab": {
          "base_uri": "https://localhost:8080/"
        },
        "id": "yhlOjXfZlCti",
        "outputId": "9b3fc3c0-e35d-47ba-f73e-601ee2d89574"
      },
      "outputs": [
        {
          "output_type": "execute_result",
          "data": {
            "text/plain": [
              "0.7954545454545454"
            ]
          },
          "metadata": {},
          "execution_count": 24
        }
      ],
      "source": [
        "# recall score\n",
        "recall_score(y_test, rfc_pred)"
      ]
    },
    {
      "cell_type": "markdown",
      "metadata": {
        "_uuid": "adead2ec74b7016ebc547ee60e0b44dc1189a2a4",
        "id": "j5m20C46lCti"
      },
      "source": [
        "# Técnicas de Reamostragem\n",
        "\n",
        "## 3. Oversampling da classe minoritária\n",
        "A sobreamostragem pode ser definida como a adição de mais cópias da classe minoritária. A sobreamostragem pode ser uma boa opção quando você não tem muitos dados para trabalhar. Um contra a ser considerado ao fazer a subamostragem é que ela pode causar overfitting e generalização ruim para seu conjunto de teste.\n",
        "\n",
        "Usaremos o módulo de reamostragem do Scikit-Learn para replicar aleatoriamente amostras da classe minoritária.\n",
        "\n",
        "### **Informação Importante**\n",
        "Sempre divida em conjuntos de teste e treinamento ANTES de tentar qualquer técnica de reamostragem! A sobreamostragem antes de dividir os dados pode permitir que exatamente as mesmas observações estejam presentes nos conjuntos de teste e de trem! Isso pode permitir que nosso modelo simplesmente memorize pontos de dados específicos e cause overfitting."
      ]
    },
    {
      "cell_type": "code",
      "execution_count": 25,
      "metadata": {
        "_uuid": "e48e7eb85c4b0a67c3f096726fef7b472e6b293d",
        "id": "Lvp-pXd6lCtj"
      },
      "outputs": [],
      "source": [
        "from sklearn.utils import resample"
      ]
    },
    {
      "cell_type": "code",
      "execution_count": 26,
      "metadata": {
        "_uuid": "8d7567a5b4ebc92b3aaff6236f2253d969488993",
        "id": "Fj-4GEwblCtj"
      },
      "outputs": [],
      "source": [
        "# Separando  features de entrada e alvo\n",
        "y = df.Class\n",
        "X = df.drop('Class', axis=1)\n",
        "\n",
        "# Separando o conjunto de teste e de treino\n",
        "X_train, X_test, y_train, y_test = train_test_split(X, y, test_size=0.25, random_state=27)"
      ]
    },
    {
      "cell_type": "code",
      "execution_count": 27,
      "metadata": {
        "_uuid": "523a5c12eb7520127ba53231e3872a21b3101ce7",
        "colab": {
          "base_uri": "https://localhost:8080/",
          "height": 299
        },
        "id": "qW6jVD-PlCtj",
        "outputId": "e42e766c-fea5-4a32-e882-b3ded9534939"
      },
      "outputs": [
        {
          "output_type": "execute_result",
          "data": {
            "text/plain": [
              "            Time        V1        V2        V3        V4        V5        V6  \\\n",
              "264873  161634.0 -0.395578  1.489129 -0.833442 -0.224271  0.369444 -1.453886   \n",
              "163821  116237.0  1.950487  0.002312 -1.761814  1.232470  0.523175 -0.650657   \n",
              "72083    54557.0  1.105167 -0.166253  0.569520  0.681043 -0.259189  0.642792   \n",
              "196949  131771.0  1.805238  0.961264 -1.717212  4.094625  0.938666 -0.227785   \n",
              "126213   77959.0  0.835421 -1.191847  0.578455  0.586101 -1.236663  0.194617   \n",
              "\n",
              "              V7        V8        V9  ...       V21       V22       V23  \\\n",
              "264873  0.796593 -0.060403  0.338270  ...  0.231624  0.955194 -0.172092   \n",
              "163821  0.504231 -0.200857  0.116805  ...  0.086306  0.326297 -0.068839   \n",
              "72083  -0.437034  0.356746  0.441417  ...  0.009073  0.293023 -0.028688   \n",
              "196949  0.152911  0.066753 -1.073784  ... -0.137875 -0.450959  0.098530   \n",
              "126213 -0.532404  0.061561 -0.734344  ... -0.072349 -0.109154 -0.308356   \n",
              "\n",
              "             V24       V25       V26       V27       V28  Amount  Class  \n",
              "264873 -0.041050 -0.313444 -0.174301  0.064657 -0.036960    2.74      0  \n",
              "163821 -0.416589  0.426044 -0.486299 -0.031266 -0.072543   38.44      0  \n",
              "72083  -0.242206  0.389813  0.482852  0.010705 -0.008399    1.00      0  \n",
              "196949 -0.662272 -0.150154 -0.098852 -0.000030  0.017622   37.89      0  \n",
              "126213  0.011968  0.461350 -0.244810  0.031845  0.060910  237.00      0  \n",
              "\n",
              "[5 rows x 31 columns]"
            ],
            "text/html": [
              "\n",
              "  <div id=\"df-ac256a64-6f71-4375-8441-6947ba2ea879\">\n",
              "    <div class=\"colab-df-container\">\n",
              "      <div>\n",
              "<style scoped>\n",
              "    .dataframe tbody tr th:only-of-type {\n",
              "        vertical-align: middle;\n",
              "    }\n",
              "\n",
              "    .dataframe tbody tr th {\n",
              "        vertical-align: top;\n",
              "    }\n",
              "\n",
              "    .dataframe thead th {\n",
              "        text-align: right;\n",
              "    }\n",
              "</style>\n",
              "<table border=\"1\" class=\"dataframe\">\n",
              "  <thead>\n",
              "    <tr style=\"text-align: right;\">\n",
              "      <th></th>\n",
              "      <th>Time</th>\n",
              "      <th>V1</th>\n",
              "      <th>V2</th>\n",
              "      <th>V3</th>\n",
              "      <th>V4</th>\n",
              "      <th>V5</th>\n",
              "      <th>V6</th>\n",
              "      <th>V7</th>\n",
              "      <th>V8</th>\n",
              "      <th>V9</th>\n",
              "      <th>...</th>\n",
              "      <th>V21</th>\n",
              "      <th>V22</th>\n",
              "      <th>V23</th>\n",
              "      <th>V24</th>\n",
              "      <th>V25</th>\n",
              "      <th>V26</th>\n",
              "      <th>V27</th>\n",
              "      <th>V28</th>\n",
              "      <th>Amount</th>\n",
              "      <th>Class</th>\n",
              "    </tr>\n",
              "  </thead>\n",
              "  <tbody>\n",
              "    <tr>\n",
              "      <th>264873</th>\n",
              "      <td>161634.0</td>\n",
              "      <td>-0.395578</td>\n",
              "      <td>1.489129</td>\n",
              "      <td>-0.833442</td>\n",
              "      <td>-0.224271</td>\n",
              "      <td>0.369444</td>\n",
              "      <td>-1.453886</td>\n",
              "      <td>0.796593</td>\n",
              "      <td>-0.060403</td>\n",
              "      <td>0.338270</td>\n",
              "      <td>...</td>\n",
              "      <td>0.231624</td>\n",
              "      <td>0.955194</td>\n",
              "      <td>-0.172092</td>\n",
              "      <td>-0.041050</td>\n",
              "      <td>-0.313444</td>\n",
              "      <td>-0.174301</td>\n",
              "      <td>0.064657</td>\n",
              "      <td>-0.036960</td>\n",
              "      <td>2.74</td>\n",
              "      <td>0</td>\n",
              "    </tr>\n",
              "    <tr>\n",
              "      <th>163821</th>\n",
              "      <td>116237.0</td>\n",
              "      <td>1.950487</td>\n",
              "      <td>0.002312</td>\n",
              "      <td>-1.761814</td>\n",
              "      <td>1.232470</td>\n",
              "      <td>0.523175</td>\n",
              "      <td>-0.650657</td>\n",
              "      <td>0.504231</td>\n",
              "      <td>-0.200857</td>\n",
              "      <td>0.116805</td>\n",
              "      <td>...</td>\n",
              "      <td>0.086306</td>\n",
              "      <td>0.326297</td>\n",
              "      <td>-0.068839</td>\n",
              "      <td>-0.416589</td>\n",
              "      <td>0.426044</td>\n",
              "      <td>-0.486299</td>\n",
              "      <td>-0.031266</td>\n",
              "      <td>-0.072543</td>\n",
              "      <td>38.44</td>\n",
              "      <td>0</td>\n",
              "    </tr>\n",
              "    <tr>\n",
              "      <th>72083</th>\n",
              "      <td>54557.0</td>\n",
              "      <td>1.105167</td>\n",
              "      <td>-0.166253</td>\n",
              "      <td>0.569520</td>\n",
              "      <td>0.681043</td>\n",
              "      <td>-0.259189</td>\n",
              "      <td>0.642792</td>\n",
              "      <td>-0.437034</td>\n",
              "      <td>0.356746</td>\n",
              "      <td>0.441417</td>\n",
              "      <td>...</td>\n",
              "      <td>0.009073</td>\n",
              "      <td>0.293023</td>\n",
              "      <td>-0.028688</td>\n",
              "      <td>-0.242206</td>\n",
              "      <td>0.389813</td>\n",
              "      <td>0.482852</td>\n",
              "      <td>0.010705</td>\n",
              "      <td>-0.008399</td>\n",
              "      <td>1.00</td>\n",
              "      <td>0</td>\n",
              "    </tr>\n",
              "    <tr>\n",
              "      <th>196949</th>\n",
              "      <td>131771.0</td>\n",
              "      <td>1.805238</td>\n",
              "      <td>0.961264</td>\n",
              "      <td>-1.717212</td>\n",
              "      <td>4.094625</td>\n",
              "      <td>0.938666</td>\n",
              "      <td>-0.227785</td>\n",
              "      <td>0.152911</td>\n",
              "      <td>0.066753</td>\n",
              "      <td>-1.073784</td>\n",
              "      <td>...</td>\n",
              "      <td>-0.137875</td>\n",
              "      <td>-0.450959</td>\n",
              "      <td>0.098530</td>\n",
              "      <td>-0.662272</td>\n",
              "      <td>-0.150154</td>\n",
              "      <td>-0.098852</td>\n",
              "      <td>-0.000030</td>\n",
              "      <td>0.017622</td>\n",
              "      <td>37.89</td>\n",
              "      <td>0</td>\n",
              "    </tr>\n",
              "    <tr>\n",
              "      <th>126213</th>\n",
              "      <td>77959.0</td>\n",
              "      <td>0.835421</td>\n",
              "      <td>-1.191847</td>\n",
              "      <td>0.578455</td>\n",
              "      <td>0.586101</td>\n",
              "      <td>-1.236663</td>\n",
              "      <td>0.194617</td>\n",
              "      <td>-0.532404</td>\n",
              "      <td>0.061561</td>\n",
              "      <td>-0.734344</td>\n",
              "      <td>...</td>\n",
              "      <td>-0.072349</td>\n",
              "      <td>-0.109154</td>\n",
              "      <td>-0.308356</td>\n",
              "      <td>0.011968</td>\n",
              "      <td>0.461350</td>\n",
              "      <td>-0.244810</td>\n",
              "      <td>0.031845</td>\n",
              "      <td>0.060910</td>\n",
              "      <td>237.00</td>\n",
              "      <td>0</td>\n",
              "    </tr>\n",
              "  </tbody>\n",
              "</table>\n",
              "<p>5 rows × 31 columns</p>\n",
              "</div>\n",
              "      <button class=\"colab-df-convert\" onclick=\"convertToInteractive('df-ac256a64-6f71-4375-8441-6947ba2ea879')\"\n",
              "              title=\"Convert this dataframe to an interactive table.\"\n",
              "              style=\"display:none;\">\n",
              "        \n",
              "  <svg xmlns=\"http://www.w3.org/2000/svg\" height=\"24px\"viewBox=\"0 0 24 24\"\n",
              "       width=\"24px\">\n",
              "    <path d=\"M0 0h24v24H0V0z\" fill=\"none\"/>\n",
              "    <path d=\"M18.56 5.44l.94 2.06.94-2.06 2.06-.94-2.06-.94-.94-2.06-.94 2.06-2.06.94zm-11 1L8.5 8.5l.94-2.06 2.06-.94-2.06-.94L8.5 2.5l-.94 2.06-2.06.94zm10 10l.94 2.06.94-2.06 2.06-.94-2.06-.94-.94-2.06-.94 2.06-2.06.94z\"/><path d=\"M17.41 7.96l-1.37-1.37c-.4-.4-.92-.59-1.43-.59-.52 0-1.04.2-1.43.59L10.3 9.45l-7.72 7.72c-.78.78-.78 2.05 0 2.83L4 21.41c.39.39.9.59 1.41.59.51 0 1.02-.2 1.41-.59l7.78-7.78 2.81-2.81c.8-.78.8-2.07 0-2.86zM5.41 20L4 18.59l7.72-7.72 1.47 1.35L5.41 20z\"/>\n",
              "  </svg>\n",
              "      </button>\n",
              "      \n",
              "  <style>\n",
              "    .colab-df-container {\n",
              "      display:flex;\n",
              "      flex-wrap:wrap;\n",
              "      gap: 12px;\n",
              "    }\n",
              "\n",
              "    .colab-df-convert {\n",
              "      background-color: #E8F0FE;\n",
              "      border: none;\n",
              "      border-radius: 50%;\n",
              "      cursor: pointer;\n",
              "      display: none;\n",
              "      fill: #1967D2;\n",
              "      height: 32px;\n",
              "      padding: 0 0 0 0;\n",
              "      width: 32px;\n",
              "    }\n",
              "\n",
              "    .colab-df-convert:hover {\n",
              "      background-color: #E2EBFA;\n",
              "      box-shadow: 0px 1px 2px rgba(60, 64, 67, 0.3), 0px 1px 3px 1px rgba(60, 64, 67, 0.15);\n",
              "      fill: #174EA6;\n",
              "    }\n",
              "\n",
              "    [theme=dark] .colab-df-convert {\n",
              "      background-color: #3B4455;\n",
              "      fill: #D2E3FC;\n",
              "    }\n",
              "\n",
              "    [theme=dark] .colab-df-convert:hover {\n",
              "      background-color: #434B5C;\n",
              "      box-shadow: 0px 1px 3px 1px rgba(0, 0, 0, 0.15);\n",
              "      filter: drop-shadow(0px 1px 2px rgba(0, 0, 0, 0.3));\n",
              "      fill: #FFFFFF;\n",
              "    }\n",
              "  </style>\n",
              "\n",
              "      <script>\n",
              "        const buttonEl =\n",
              "          document.querySelector('#df-ac256a64-6f71-4375-8441-6947ba2ea879 button.colab-df-convert');\n",
              "        buttonEl.style.display =\n",
              "          google.colab.kernel.accessAllowed ? 'block' : 'none';\n",
              "\n",
              "        async function convertToInteractive(key) {\n",
              "          const element = document.querySelector('#df-ac256a64-6f71-4375-8441-6947ba2ea879');\n",
              "          const dataTable =\n",
              "            await google.colab.kernel.invokeFunction('convertToInteractive',\n",
              "                                                     [key], {});\n",
              "          if (!dataTable) return;\n",
              "\n",
              "          const docLinkHtml = 'Like what you see? Visit the ' +\n",
              "            '<a target=\"_blank\" href=https://colab.research.google.com/notebooks/data_table.ipynb>data table notebook</a>'\n",
              "            + ' to learn more about interactive tables.';\n",
              "          element.innerHTML = '';\n",
              "          dataTable['output_type'] = 'display_data';\n",
              "          await google.colab.output.renderOutput(dataTable, element);\n",
              "          const docLink = document.createElement('div');\n",
              "          docLink.innerHTML = docLinkHtml;\n",
              "          element.appendChild(docLink);\n",
              "        }\n",
              "      </script>\n",
              "    </div>\n",
              "  </div>\n",
              "  "
            ]
          },
          "metadata": {},
          "execution_count": 27
        }
      ],
      "source": [
        "# Concatenando os dados de treino novamente\n",
        "X = pd.concat([X_train, y_train], axis=1)\n",
        "X.head()"
      ]
    },
    {
      "cell_type": "code",
      "execution_count": 28,
      "metadata": {
        "_uuid": "fd10e5f5f96a9c3fe607d0fb35475fe62fa75675",
        "colab": {
          "base_uri": "https://localhost:8080/"
        },
        "id": "Ff9bSHeolCtk",
        "outputId": "11836044-f949-40ab-bc7d-c8fec56f4201"
      },
      "outputs": [
        {
          "output_type": "execute_result",
          "data": {
            "text/plain": [
              "0    213245\n",
              "1    213245\n",
              "Name: Class, dtype: int64"
            ]
          },
          "metadata": {},
          "execution_count": 28
        }
      ],
      "source": [
        "# separando classe minoritária e majoritária\n",
        "not_fraud = X[X.Class==0]\n",
        "fraud = X[X.Class==1]\n",
        "\n",
        "# upsample classe minoritária\n",
        "fraud_upsampled = resample(fraud,\n",
        "                          replace=True, # amostragem com reposição\n",
        "                          n_samples=len(not_fraud), # Ser o mesmo número da classe maioritária\n",
        "                          random_state=27) # Resultados podem ser reproduzidos (mesmo random_state)\n",
        "\n",
        "# combinando classe majoritária e a classe minoritária upsampled\n",
        "upsampled = pd.concat([not_fraud, fraud_upsampled])\n",
        "\n",
        "# checando a contagem \n",
        "upsampled.Class.value_counts()"
      ]
    },
    {
      "cell_type": "code",
      "execution_count": 29,
      "metadata": {
        "_uuid": "48e16be49fbda450115a2d169d3edc5979f633c0",
        "id": "_0mbSCu2lCtk"
      },
      "outputs": [],
      "source": [
        "# tentando logistic regression com o banco de dados balanceado\n",
        "y_train = upsampled.Class\n",
        "X_train = upsampled.drop('Class', axis=1)\n",
        "\n",
        "upsampled = LogisticRegression(solver='liblinear').fit(X_train, y_train)\n",
        "\n",
        "upsampled_pred = upsampled.predict(X_test)"
      ]
    },
    {
      "cell_type": "code",
      "execution_count": 30,
      "metadata": {
        "_uuid": "24f541f7a98c359d213baf5e6463b6245369fc74",
        "colab": {
          "base_uri": "https://localhost:8080/"
        },
        "id": "FjsCnUAxlCtk",
        "outputId": "820a79ef-71eb-4a2b-9a93-16b99258d0f1"
      },
      "outputs": [
        {
          "output_type": "execute_result",
          "data": {
            "text/plain": [
              "0.9807589674447347"
            ]
          },
          "metadata": {},
          "execution_count": 30
        }
      ],
      "source": [
        "# Checando acurácia\n",
        "accuracy_score(y_test, upsampled_pred)"
      ]
    },
    {
      "cell_type": "code",
      "execution_count": 31,
      "metadata": {
        "_uuid": "f3235cf726cf002344376b279db4c34b50a97948",
        "colab": {
          "base_uri": "https://localhost:8080/"
        },
        "id": "Ki07F8WalCtl",
        "outputId": "b427a7c2-ff23-4bf1-c1a4-4c5f8f9fc77b"
      },
      "outputs": [
        {
          "output_type": "execute_result",
          "data": {
            "text/plain": [
              "0.14375000000000002"
            ]
          },
          "metadata": {},
          "execution_count": 31
        }
      ],
      "source": [
        "# f1 score\n",
        "f1_score(y_test, upsampled_pred)"
      ]
    },
    {
      "cell_type": "code",
      "execution_count": 32,
      "metadata": {
        "_uuid": "2334aa3ad1e8886a9756d01fd6010816ece03448",
        "colab": {
          "base_uri": "https://localhost:8080/",
          "height": 112
        },
        "id": "r0ZwyP_ylCtl",
        "outputId": "ed776db0-c392-43b4-e862-ec9866c78e54"
      },
      "outputs": [
        {
          "output_type": "execute_result",
          "data": {
            "text/plain": [
              "       0     1\n",
              "0  69717  1353\n",
              "1     17   115"
            ],
            "text/html": [
              "\n",
              "  <div id=\"df-57f8b42e-ec59-4a9e-96b0-7d287a8446f2\">\n",
              "    <div class=\"colab-df-container\">\n",
              "      <div>\n",
              "<style scoped>\n",
              "    .dataframe tbody tr th:only-of-type {\n",
              "        vertical-align: middle;\n",
              "    }\n",
              "\n",
              "    .dataframe tbody tr th {\n",
              "        vertical-align: top;\n",
              "    }\n",
              "\n",
              "    .dataframe thead th {\n",
              "        text-align: right;\n",
              "    }\n",
              "</style>\n",
              "<table border=\"1\" class=\"dataframe\">\n",
              "  <thead>\n",
              "    <tr style=\"text-align: right;\">\n",
              "      <th></th>\n",
              "      <th>0</th>\n",
              "      <th>1</th>\n",
              "    </tr>\n",
              "  </thead>\n",
              "  <tbody>\n",
              "    <tr>\n",
              "      <th>0</th>\n",
              "      <td>69717</td>\n",
              "      <td>1353</td>\n",
              "    </tr>\n",
              "    <tr>\n",
              "      <th>1</th>\n",
              "      <td>17</td>\n",
              "      <td>115</td>\n",
              "    </tr>\n",
              "  </tbody>\n",
              "</table>\n",
              "</div>\n",
              "      <button class=\"colab-df-convert\" onclick=\"convertToInteractive('df-57f8b42e-ec59-4a9e-96b0-7d287a8446f2')\"\n",
              "              title=\"Convert this dataframe to an interactive table.\"\n",
              "              style=\"display:none;\">\n",
              "        \n",
              "  <svg xmlns=\"http://www.w3.org/2000/svg\" height=\"24px\"viewBox=\"0 0 24 24\"\n",
              "       width=\"24px\">\n",
              "    <path d=\"M0 0h24v24H0V0z\" fill=\"none\"/>\n",
              "    <path d=\"M18.56 5.44l.94 2.06.94-2.06 2.06-.94-2.06-.94-.94-2.06-.94 2.06-2.06.94zm-11 1L8.5 8.5l.94-2.06 2.06-.94-2.06-.94L8.5 2.5l-.94 2.06-2.06.94zm10 10l.94 2.06.94-2.06 2.06-.94-2.06-.94-.94-2.06-.94 2.06-2.06.94z\"/><path d=\"M17.41 7.96l-1.37-1.37c-.4-.4-.92-.59-1.43-.59-.52 0-1.04.2-1.43.59L10.3 9.45l-7.72 7.72c-.78.78-.78 2.05 0 2.83L4 21.41c.39.39.9.59 1.41.59.51 0 1.02-.2 1.41-.59l7.78-7.78 2.81-2.81c.8-.78.8-2.07 0-2.86zM5.41 20L4 18.59l7.72-7.72 1.47 1.35L5.41 20z\"/>\n",
              "  </svg>\n",
              "      </button>\n",
              "      \n",
              "  <style>\n",
              "    .colab-df-container {\n",
              "      display:flex;\n",
              "      flex-wrap:wrap;\n",
              "      gap: 12px;\n",
              "    }\n",
              "\n",
              "    .colab-df-convert {\n",
              "      background-color: #E8F0FE;\n",
              "      border: none;\n",
              "      border-radius: 50%;\n",
              "      cursor: pointer;\n",
              "      display: none;\n",
              "      fill: #1967D2;\n",
              "      height: 32px;\n",
              "      padding: 0 0 0 0;\n",
              "      width: 32px;\n",
              "    }\n",
              "\n",
              "    .colab-df-convert:hover {\n",
              "      background-color: #E2EBFA;\n",
              "      box-shadow: 0px 1px 2px rgba(60, 64, 67, 0.3), 0px 1px 3px 1px rgba(60, 64, 67, 0.15);\n",
              "      fill: #174EA6;\n",
              "    }\n",
              "\n",
              "    [theme=dark] .colab-df-convert {\n",
              "      background-color: #3B4455;\n",
              "      fill: #D2E3FC;\n",
              "    }\n",
              "\n",
              "    [theme=dark] .colab-df-convert:hover {\n",
              "      background-color: #434B5C;\n",
              "      box-shadow: 0px 1px 3px 1px rgba(0, 0, 0, 0.15);\n",
              "      filter: drop-shadow(0px 1px 2px rgba(0, 0, 0, 0.3));\n",
              "      fill: #FFFFFF;\n",
              "    }\n",
              "  </style>\n",
              "\n",
              "      <script>\n",
              "        const buttonEl =\n",
              "          document.querySelector('#df-57f8b42e-ec59-4a9e-96b0-7d287a8446f2 button.colab-df-convert');\n",
              "        buttonEl.style.display =\n",
              "          google.colab.kernel.accessAllowed ? 'block' : 'none';\n",
              "\n",
              "        async function convertToInteractive(key) {\n",
              "          const element = document.querySelector('#df-57f8b42e-ec59-4a9e-96b0-7d287a8446f2');\n",
              "          const dataTable =\n",
              "            await google.colab.kernel.invokeFunction('convertToInteractive',\n",
              "                                                     [key], {});\n",
              "          if (!dataTable) return;\n",
              "\n",
              "          const docLinkHtml = 'Like what you see? Visit the ' +\n",
              "            '<a target=\"_blank\" href=https://colab.research.google.com/notebooks/data_table.ipynb>data table notebook</a>'\n",
              "            + ' to learn more about interactive tables.';\n",
              "          element.innerHTML = '';\n",
              "          dataTable['output_type'] = 'display_data';\n",
              "          await google.colab.output.renderOutput(dataTable, element);\n",
              "          const docLink = document.createElement('div');\n",
              "          docLink.innerHTML = docLinkHtml;\n",
              "          element.appendChild(docLink);\n",
              "        }\n",
              "      </script>\n",
              "    </div>\n",
              "  </div>\n",
              "  "
            ]
          },
          "metadata": {},
          "execution_count": 32
        }
      ],
      "source": [
        "# matriz de confusão\n",
        "pd.DataFrame(confusion_matrix(y_test, upsampled_pred))"
      ]
    },
    {
      "cell_type": "code",
      "execution_count": 33,
      "metadata": {
        "_uuid": "f7030ec30156d154644c0922c5d608ffdf620c66",
        "colab": {
          "base_uri": "https://localhost:8080/"
        },
        "id": "dhlQ-iJ7lCtl",
        "outputId": "40f2d7e0-0593-4e5d-dafe-34b352415df5"
      },
      "outputs": [
        {
          "output_type": "execute_result",
          "data": {
            "text/plain": [
              "0.8712121212121212"
            ]
          },
          "metadata": {},
          "execution_count": 33
        }
      ],
      "source": [
        "recall_score(y_test, upsampled_pred)"
      ]
    },
    {
      "cell_type": "markdown",
      "metadata": {
        "_uuid": "a0b5c7e2b673baac682bb89d9484ad9f7fbea16e",
        "id": "lPMp07a3lCtl"
      },
      "source": [
        "Nossa pontuação de precisão diminuiu após o upsampling, mas o modelo agora está prevendo as duas classes de forma mais igual, tornando-se uma melhoria em relação à nossa regressão logística simples acima.\n",
        "\n",
        "\n",
        "## 4. Undersampling da classe majoritária\n",
        "A subamostragem pode ser definida como a remoção de algumas observações da classe majoritária. A subamostragem pode ser uma boa escolha quando você tem uma tonelada de dados – pense em milhões de linhas. Mas uma desvantagem da subamostragem é que estamos removendo informações que podem ser valiosas.\n",
        "\n",
        "Usaremos novamente o módulo de reamostragem do Scikit-Learn para remover amostras aleatoriamente da classe majoritária."
      ]
    },
    {
      "cell_type": "code",
      "execution_count": 34,
      "metadata": {
        "_uuid": "15c289c9551acca877a3ca824c6b2f074daccce6",
        "colab": {
          "base_uri": "https://localhost:8080/"
        },
        "id": "sd6Mf5aXlCtm",
        "outputId": "83eed5a2-767a-4817-f540-6e35350d4e87"
      },
      "outputs": [
        {
          "output_type": "execute_result",
          "data": {
            "text/plain": [
              "0    360\n",
              "1    360\n",
              "Name: Class, dtype: int64"
            ]
          },
          "metadata": {},
          "execution_count": 34
        }
      ],
      "source": [
        "# ainda usando as classes separadsa de fraude and not_fraud criadas acima\n",
        "\n",
        "# downsample a classe majoritária\n",
        "not_fraud_downsampled = resample(not_fraud,\n",
        "                                replace = False, # sample without replacement\n",
        "                                n_samples = len(fraud), # match minority n\n",
        "                                random_state = 27) # reproducible results\n",
        "\n",
        "# Combinando a minoritária e a majoritária downsampled\n",
        "downsampled = pd.concat([not_fraud_downsampled, fraud])\n",
        "\n",
        "# checking counts\n",
        "downsampled.Class.value_counts()"
      ]
    },
    {
      "cell_type": "code",
      "execution_count": 35,
      "metadata": {
        "_uuid": "339ff5f558175b8daf2a4536d4749978e7e7c4fd",
        "id": "AFziSxSvlCtm"
      },
      "outputs": [],
      "source": [
        "# Tentando a regressão logística novamente com undersampled dataset\n",
        "\n",
        "y_train = downsampled.Class\n",
        "X_train = downsampled.drop('Class', axis=1)\n",
        "\n",
        "undersampled = LogisticRegression(solver='liblinear').fit(X_train, y_train)\n",
        "\n",
        "undersampled_pred = undersampled.predict(X_test)"
      ]
    },
    {
      "cell_type": "code",
      "execution_count": 36,
      "metadata": {
        "_uuid": "a4808d815c2531edfbb93ad420a40bf2aa4c85f4",
        "colab": {
          "base_uri": "https://localhost:8080/"
        },
        "id": "QdMHqIrclCtm",
        "outputId": "ee5c7bb8-d6c6-403b-d080-9c789c736789"
      },
      "outputs": [
        {
          "output_type": "execute_result",
          "data": {
            "text/plain": [
              "0.9758574197354007"
            ]
          },
          "metadata": {},
          "execution_count": 36
        }
      ],
      "source": [
        "# Checando acurácia\n",
        "accuracy_score(y_test, undersampled_pred)"
      ]
    },
    {
      "cell_type": "code",
      "execution_count": 37,
      "metadata": {
        "_uuid": "5f79a91effffd12bec83359230618af1c7ed23f3",
        "colab": {
          "base_uri": "https://localhost:8080/"
        },
        "id": "qxCe7LH7lCtm",
        "outputId": "b478e730-44a5-4c6e-9611-ba7bf945b1d7"
      },
      "outputs": [
        {
          "output_type": "execute_result",
          "data": {
            "text/plain": [
              "0.11710323574730355"
            ]
          },
          "metadata": {},
          "execution_count": 37
        }
      ],
      "source": [
        "# f1 score\n",
        "f1_score(y_test, undersampled_pred)"
      ]
    },
    {
      "cell_type": "code",
      "execution_count": 38,
      "metadata": {
        "_uuid": "9b8cab34cf1a0c10ca0f862909abbc83e35fbecd",
        "colab": {
          "base_uri": "https://localhost:8080/",
          "height": 112
        },
        "id": "XsW6TByNlCtm",
        "outputId": "68d55b59-279e-4235-8501-56c696c62f89"
      },
      "outputs": [
        {
          "output_type": "execute_result",
          "data": {
            "text/plain": [
              "       0     1\n",
              "0  69369  1701\n",
              "1     18   114"
            ],
            "text/html": [
              "\n",
              "  <div id=\"df-ff587373-9327-4cde-80be-635f091bd95d\">\n",
              "    <div class=\"colab-df-container\">\n",
              "      <div>\n",
              "<style scoped>\n",
              "    .dataframe tbody tr th:only-of-type {\n",
              "        vertical-align: middle;\n",
              "    }\n",
              "\n",
              "    .dataframe tbody tr th {\n",
              "        vertical-align: top;\n",
              "    }\n",
              "\n",
              "    .dataframe thead th {\n",
              "        text-align: right;\n",
              "    }\n",
              "</style>\n",
              "<table border=\"1\" class=\"dataframe\">\n",
              "  <thead>\n",
              "    <tr style=\"text-align: right;\">\n",
              "      <th></th>\n",
              "      <th>0</th>\n",
              "      <th>1</th>\n",
              "    </tr>\n",
              "  </thead>\n",
              "  <tbody>\n",
              "    <tr>\n",
              "      <th>0</th>\n",
              "      <td>69369</td>\n",
              "      <td>1701</td>\n",
              "    </tr>\n",
              "    <tr>\n",
              "      <th>1</th>\n",
              "      <td>18</td>\n",
              "      <td>114</td>\n",
              "    </tr>\n",
              "  </tbody>\n",
              "</table>\n",
              "</div>\n",
              "      <button class=\"colab-df-convert\" onclick=\"convertToInteractive('df-ff587373-9327-4cde-80be-635f091bd95d')\"\n",
              "              title=\"Convert this dataframe to an interactive table.\"\n",
              "              style=\"display:none;\">\n",
              "        \n",
              "  <svg xmlns=\"http://www.w3.org/2000/svg\" height=\"24px\"viewBox=\"0 0 24 24\"\n",
              "       width=\"24px\">\n",
              "    <path d=\"M0 0h24v24H0V0z\" fill=\"none\"/>\n",
              "    <path d=\"M18.56 5.44l.94 2.06.94-2.06 2.06-.94-2.06-.94-.94-2.06-.94 2.06-2.06.94zm-11 1L8.5 8.5l.94-2.06 2.06-.94-2.06-.94L8.5 2.5l-.94 2.06-2.06.94zm10 10l.94 2.06.94-2.06 2.06-.94-2.06-.94-.94-2.06-.94 2.06-2.06.94z\"/><path d=\"M17.41 7.96l-1.37-1.37c-.4-.4-.92-.59-1.43-.59-.52 0-1.04.2-1.43.59L10.3 9.45l-7.72 7.72c-.78.78-.78 2.05 0 2.83L4 21.41c.39.39.9.59 1.41.59.51 0 1.02-.2 1.41-.59l7.78-7.78 2.81-2.81c.8-.78.8-2.07 0-2.86zM5.41 20L4 18.59l7.72-7.72 1.47 1.35L5.41 20z\"/>\n",
              "  </svg>\n",
              "      </button>\n",
              "      \n",
              "  <style>\n",
              "    .colab-df-container {\n",
              "      display:flex;\n",
              "      flex-wrap:wrap;\n",
              "      gap: 12px;\n",
              "    }\n",
              "\n",
              "    .colab-df-convert {\n",
              "      background-color: #E8F0FE;\n",
              "      border: none;\n",
              "      border-radius: 50%;\n",
              "      cursor: pointer;\n",
              "      display: none;\n",
              "      fill: #1967D2;\n",
              "      height: 32px;\n",
              "      padding: 0 0 0 0;\n",
              "      width: 32px;\n",
              "    }\n",
              "\n",
              "    .colab-df-convert:hover {\n",
              "      background-color: #E2EBFA;\n",
              "      box-shadow: 0px 1px 2px rgba(60, 64, 67, 0.3), 0px 1px 3px 1px rgba(60, 64, 67, 0.15);\n",
              "      fill: #174EA6;\n",
              "    }\n",
              "\n",
              "    [theme=dark] .colab-df-convert {\n",
              "      background-color: #3B4455;\n",
              "      fill: #D2E3FC;\n",
              "    }\n",
              "\n",
              "    [theme=dark] .colab-df-convert:hover {\n",
              "      background-color: #434B5C;\n",
              "      box-shadow: 0px 1px 3px 1px rgba(0, 0, 0, 0.15);\n",
              "      filter: drop-shadow(0px 1px 2px rgba(0, 0, 0, 0.3));\n",
              "      fill: #FFFFFF;\n",
              "    }\n",
              "  </style>\n",
              "\n",
              "      <script>\n",
              "        const buttonEl =\n",
              "          document.querySelector('#df-ff587373-9327-4cde-80be-635f091bd95d button.colab-df-convert');\n",
              "        buttonEl.style.display =\n",
              "          google.colab.kernel.accessAllowed ? 'block' : 'none';\n",
              "\n",
              "        async function convertToInteractive(key) {\n",
              "          const element = document.querySelector('#df-ff587373-9327-4cde-80be-635f091bd95d');\n",
              "          const dataTable =\n",
              "            await google.colab.kernel.invokeFunction('convertToInteractive',\n",
              "                                                     [key], {});\n",
              "          if (!dataTable) return;\n",
              "\n",
              "          const docLinkHtml = 'Like what you see? Visit the ' +\n",
              "            '<a target=\"_blank\" href=https://colab.research.google.com/notebooks/data_table.ipynb>data table notebook</a>'\n",
              "            + ' to learn more about interactive tables.';\n",
              "          element.innerHTML = '';\n",
              "          dataTable['output_type'] = 'display_data';\n",
              "          await google.colab.output.renderOutput(dataTable, element);\n",
              "          const docLink = document.createElement('div');\n",
              "          docLink.innerHTML = docLinkHtml;\n",
              "          element.appendChild(docLink);\n",
              "        }\n",
              "      </script>\n",
              "    </div>\n",
              "  </div>\n",
              "  "
            ]
          },
          "metadata": {},
          "execution_count": 38
        }
      ],
      "source": [
        "# matriz de confusão\n",
        "pd.DataFrame(confusion_matrix(y_test, undersampled_pred))"
      ]
    },
    {
      "cell_type": "code",
      "execution_count": 39,
      "metadata": {
        "_uuid": "8240af095c11b2a48da1eeba3a75e70aa902610c",
        "colab": {
          "base_uri": "https://localhost:8080/"
        },
        "id": "3-Lfkq8ylCtn",
        "outputId": "c136364a-32b2-4fd3-ab00-2310056d0fbc"
      },
      "outputs": [
        {
          "output_type": "execute_result",
          "data": {
            "text/plain": [
              "0.8636363636363636"
            ]
          },
          "metadata": {},
          "execution_count": 39
        }
      ],
      "source": [
        "recall_score(y_test, undersampled_pred)"
      ]
    },
    {
      "cell_type": "markdown",
      "metadata": {
        "_uuid": "0cdac5de057cf831e81f8766b539834accf46663",
        "id": "UjkPa2xFlCtn"
      },
      "source": [
        "Downsampling produziu uma pontuação de recall mais alta do que o upsampling! Minha preocupação aqui é o pequeno número de amostras totais que usamos para treinar o modelo.\n"
      ]
    },
    {
      "cell_type": "markdown",
      "metadata": {
        "_uuid": "9ce5844e2d4447485416cf927112a8c2cf3fd1d8",
        "id": "6hcy0WZolCtn"
      },
      "source": [
        "## 5. Gerar Amostras Sintéticas\n",
        "SMOTE ou Synthetic Minority Oversampling Technique é um algoritmo popular para criar observações sintéticas da classe minoritária."
      ]
    },
    {
      "cell_type": "code",
      "execution_count": 42,
      "metadata": {
        "_uuid": "5d01357038bb94f8a93c77141e462153c73c5ab8",
        "id": "LDACwqBPlCtn"
      },
      "outputs": [],
      "source": [
        "from imblearn.over_sampling import SMOTE\n",
        "\n",
        "# Separando  features de entrada e alvo\n",
        "y = df.Class\n",
        "X = df.drop('Class', axis=1)\n",
        "\n",
        "# Separando o conjunto de teste e de treino\n",
        "X_train, X_test, y_train, y_test = train_test_split(X, y, test_size=0.25, random_state=27)\n",
        "\n",
        "sm = SMOTE(random_state=27, sampling_strategy=1.0)\n",
        "X_train, y_train = sm.fit_resample(X_train, y_train)"
      ]
    },
    {
      "cell_type": "code",
      "execution_count": 43,
      "metadata": {
        "_uuid": "669cb81d0cf57aa6c3769a586253ac5e1e5622bf",
        "colab": {
          "base_uri": "https://localhost:8080/"
        },
        "id": "bp_DWoI0lCtn",
        "outputId": "407ce548-3ae4-4809-ab8c-3ac33cb3f0e7"
      },
      "outputs": [
        {
          "output_type": "execute_result",
          "data": {
            "text/plain": [
              "0.9858571388444145"
            ]
          },
          "metadata": {},
          "execution_count": 43
        }
      ],
      "source": [
        "smote = LogisticRegression(solver='liblinear').fit(X_train, y_train)\n",
        "\n",
        "smote_pred = smote.predict(X_test)\n",
        "\n",
        "# Checando Acurácia\n",
        "accuracy_score(y_test, smote_pred)"
      ]
    },
    {
      "cell_type": "code",
      "execution_count": 44,
      "metadata": {
        "_uuid": "a53ecb2ee29d381dbc4da8fc897242c37153b75e",
        "colab": {
          "base_uri": "https://localhost:8080/"
        },
        "id": "j_FAoZdmlCto",
        "outputId": "021d13c3-f92a-4a00-f4e4-0d2f92f080f3"
      },
      "outputs": [
        {
          "output_type": "execute_result",
          "data": {
            "text/plain": [
              "0.18461538461538463"
            ]
          },
          "metadata": {},
          "execution_count": 44
        }
      ],
      "source": [
        "# f1 score\n",
        "f1_score(y_test, smote_pred)"
      ]
    },
    {
      "cell_type": "code",
      "execution_count": 45,
      "metadata": {
        "_uuid": "5be328bfd7f9661505264b65f085069e5de08b53",
        "colab": {
          "base_uri": "https://localhost:8080/",
          "height": 112
        },
        "id": "Iol3UIl-lCto",
        "outputId": "5d14c67a-6d75-4fa7-c887-0591668246e3"
      },
      "outputs": [
        {
          "output_type": "execute_result",
          "data": {
            "text/plain": [
              "       0    1\n",
              "0  70081  989\n",
              "1     18  114"
            ],
            "text/html": [
              "\n",
              "  <div id=\"df-d1c67b38-0720-44e8-a95d-9fa244b43dd5\">\n",
              "    <div class=\"colab-df-container\">\n",
              "      <div>\n",
              "<style scoped>\n",
              "    .dataframe tbody tr th:only-of-type {\n",
              "        vertical-align: middle;\n",
              "    }\n",
              "\n",
              "    .dataframe tbody tr th {\n",
              "        vertical-align: top;\n",
              "    }\n",
              "\n",
              "    .dataframe thead th {\n",
              "        text-align: right;\n",
              "    }\n",
              "</style>\n",
              "<table border=\"1\" class=\"dataframe\">\n",
              "  <thead>\n",
              "    <tr style=\"text-align: right;\">\n",
              "      <th></th>\n",
              "      <th>0</th>\n",
              "      <th>1</th>\n",
              "    </tr>\n",
              "  </thead>\n",
              "  <tbody>\n",
              "    <tr>\n",
              "      <th>0</th>\n",
              "      <td>70081</td>\n",
              "      <td>989</td>\n",
              "    </tr>\n",
              "    <tr>\n",
              "      <th>1</th>\n",
              "      <td>18</td>\n",
              "      <td>114</td>\n",
              "    </tr>\n",
              "  </tbody>\n",
              "</table>\n",
              "</div>\n",
              "      <button class=\"colab-df-convert\" onclick=\"convertToInteractive('df-d1c67b38-0720-44e8-a95d-9fa244b43dd5')\"\n",
              "              title=\"Convert this dataframe to an interactive table.\"\n",
              "              style=\"display:none;\">\n",
              "        \n",
              "  <svg xmlns=\"http://www.w3.org/2000/svg\" height=\"24px\"viewBox=\"0 0 24 24\"\n",
              "       width=\"24px\">\n",
              "    <path d=\"M0 0h24v24H0V0z\" fill=\"none\"/>\n",
              "    <path d=\"M18.56 5.44l.94 2.06.94-2.06 2.06-.94-2.06-.94-.94-2.06-.94 2.06-2.06.94zm-11 1L8.5 8.5l.94-2.06 2.06-.94-2.06-.94L8.5 2.5l-.94 2.06-2.06.94zm10 10l.94 2.06.94-2.06 2.06-.94-2.06-.94-.94-2.06-.94 2.06-2.06.94z\"/><path d=\"M17.41 7.96l-1.37-1.37c-.4-.4-.92-.59-1.43-.59-.52 0-1.04.2-1.43.59L10.3 9.45l-7.72 7.72c-.78.78-.78 2.05 0 2.83L4 21.41c.39.39.9.59 1.41.59.51 0 1.02-.2 1.41-.59l7.78-7.78 2.81-2.81c.8-.78.8-2.07 0-2.86zM5.41 20L4 18.59l7.72-7.72 1.47 1.35L5.41 20z\"/>\n",
              "  </svg>\n",
              "      </button>\n",
              "      \n",
              "  <style>\n",
              "    .colab-df-container {\n",
              "      display:flex;\n",
              "      flex-wrap:wrap;\n",
              "      gap: 12px;\n",
              "    }\n",
              "\n",
              "    .colab-df-convert {\n",
              "      background-color: #E8F0FE;\n",
              "      border: none;\n",
              "      border-radius: 50%;\n",
              "      cursor: pointer;\n",
              "      display: none;\n",
              "      fill: #1967D2;\n",
              "      height: 32px;\n",
              "      padding: 0 0 0 0;\n",
              "      width: 32px;\n",
              "    }\n",
              "\n",
              "    .colab-df-convert:hover {\n",
              "      background-color: #E2EBFA;\n",
              "      box-shadow: 0px 1px 2px rgba(60, 64, 67, 0.3), 0px 1px 3px 1px rgba(60, 64, 67, 0.15);\n",
              "      fill: #174EA6;\n",
              "    }\n",
              "\n",
              "    [theme=dark] .colab-df-convert {\n",
              "      background-color: #3B4455;\n",
              "      fill: #D2E3FC;\n",
              "    }\n",
              "\n",
              "    [theme=dark] .colab-df-convert:hover {\n",
              "      background-color: #434B5C;\n",
              "      box-shadow: 0px 1px 3px 1px rgba(0, 0, 0, 0.15);\n",
              "      filter: drop-shadow(0px 1px 2px rgba(0, 0, 0, 0.3));\n",
              "      fill: #FFFFFF;\n",
              "    }\n",
              "  </style>\n",
              "\n",
              "      <script>\n",
              "        const buttonEl =\n",
              "          document.querySelector('#df-d1c67b38-0720-44e8-a95d-9fa244b43dd5 button.colab-df-convert');\n",
              "        buttonEl.style.display =\n",
              "          google.colab.kernel.accessAllowed ? 'block' : 'none';\n",
              "\n",
              "        async function convertToInteractive(key) {\n",
              "          const element = document.querySelector('#df-d1c67b38-0720-44e8-a95d-9fa244b43dd5');\n",
              "          const dataTable =\n",
              "            await google.colab.kernel.invokeFunction('convertToInteractive',\n",
              "                                                     [key], {});\n",
              "          if (!dataTable) return;\n",
              "\n",
              "          const docLinkHtml = 'Like what you see? Visit the ' +\n",
              "            '<a target=\"_blank\" href=https://colab.research.google.com/notebooks/data_table.ipynb>data table notebook</a>'\n",
              "            + ' to learn more about interactive tables.';\n",
              "          element.innerHTML = '';\n",
              "          dataTable['output_type'] = 'display_data';\n",
              "          await google.colab.output.renderOutput(dataTable, element);\n",
              "          const docLink = document.createElement('div');\n",
              "          docLink.innerHTML = docLinkHtml;\n",
              "          element.appendChild(docLink);\n",
              "        }\n",
              "      </script>\n",
              "    </div>\n",
              "  </div>\n",
              "  "
            ]
          },
          "metadata": {},
          "execution_count": 45
        }
      ],
      "source": [
        "# Matriz de confusão\n",
        "pd.DataFrame(confusion_matrix(y_test, smote_pred))"
      ]
    },
    {
      "cell_type": "code",
      "execution_count": 46,
      "metadata": {
        "_uuid": "991a2802f90abfc195f6f0325b77ba45efc9e404",
        "colab": {
          "base_uri": "https://localhost:8080/"
        },
        "id": "HtBEEWKMlCto",
        "outputId": "085bd983-bf85-4358-97ab-e2591408c5c1"
      },
      "outputs": [
        {
          "output_type": "execute_result",
          "data": {
            "text/plain": [
              "0.8636363636363636"
            ]
          },
          "metadata": {},
          "execution_count": 46
        }
      ],
      "source": [
        "recall_score(y_test, smote_pred)"
      ]
    },
    {
      "cell_type": "markdown",
      "metadata": {
        "_uuid": "8bde53447fef057292a1d52b62978e53b7d44f8f",
        "id": "RrXrBvLTlCto"
      },
      "source": [
        "## Conclusão\n",
        "\n",
        "Cobrimos 5 métodos diferentes para lidar com conjuntos de dados desequilibrados:\n",
        "\n",
        "1.  Alterar a métrica de desempenho\n",
        "2.  Oversampling da classe minoritária\n",
        "3.  Undersampling da classe majoritária \n",
        "4.  Alterar o algoritmo\n",
        "5.  Gerar amostras sintéticas\n",
        "\n",
        "\n",
        "Esses são apenas alguns dos muitos métodos possíveis para tentar lidar com conjuntos de dados desequilibrados, e não uma lista exaustiva. Alguns outros métodos a serem considerados são coletar mais dados ou escolher diferentes proporções de reamostragem - você não precisa ter exatamente uma proporção de 1:1! Você deve sempre tentar várias abordagens e depois decidir qual é a melhor para o seu problema."
      ]
    },
    {
      "cell_type": "markdown",
      "source": [
        "Referência\n",
        "\n",
        "https://towardsdatascience.com/methods-for-dealing-with-imbalanced-data-5b761be45a18"
      ],
      "metadata": {
        "id": "2a0mrLJVlFvx"
      }
    }
  ],
  "metadata": {
    "kernelspec": {
      "display_name": "Python 3",
      "language": "python",
      "name": "python3"
    },
    "language_info": {
      "codemirror_mode": {
        "name": "ipython",
        "version": 3
      },
      "file_extension": ".py",
      "mimetype": "text/x-python",
      "name": "python",
      "nbconvert_exporter": "python",
      "pygments_lexer": "ipython3",
      "version": "3.6.6"
    },
    "colab": {
      "name": "methods-for-dealing-with-imbalanced-data.ipynb",
      "provenance": [],
      "collapsed_sections": [],
      "include_colab_link": true
    }
  },
  "nbformat": 4,
  "nbformat_minor": 0
}